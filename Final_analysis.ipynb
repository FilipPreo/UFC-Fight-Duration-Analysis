{
 "cells": [
  {
   "cell_type": "code",
   "execution_count": 1,
   "metadata": {},
   "outputs": [],
   "source": [
    "import pandas as pd\n",
    "import numpy as np\n",
    "import statsmodels.stats as sms\n",
    "import seaborn as sns\n",
    "import matplotlib.pyplot as plt\n",
    "import time\n",
    "import scipy.stats as stats\n",
    "from sklearn.model_selection import train_test_split\n",
    "from sklearn.linear_model import LinearRegression\n",
    "from sklearn.model_selection import cross_validate\n",
    "import library as lib\n",
    "sns.set_style('darkgrid')\n",
    "%load_ext autoreload\n",
    "%autoreload 2"
   ]
  },
  {
   "cell_type": "code",
   "execution_count": 2,
   "metadata": {},
   "outputs": [
    {
     "data": {
      "text/html": [
       "<div>\n",
       "<style scoped>\n",
       "    .dataframe tbody tr th:only-of-type {\n",
       "        vertical-align: middle;\n",
       "    }\n",
       "\n",
       "    .dataframe tbody tr th {\n",
       "        vertical-align: top;\n",
       "    }\n",
       "\n",
       "    .dataframe thead th {\n",
       "        text-align: right;\n",
       "    }\n",
       "</style>\n",
       "<table border=\"1\" class=\"dataframe\">\n",
       "  <thead>\n",
       "    <tr style=\"text-align: right;\">\n",
       "      <th></th>\n",
       "      <th>date</th>\n",
       "      <th>no_of_rounds</th>\n",
       "      <th>current_lose_streak</th>\n",
       "      <th>current_win_streak</th>\n",
       "      <th>draw</th>\n",
       "      <th>longest_win_streak</th>\n",
       "      <th>losses</th>\n",
       "      <th>total_rounds_fought</th>\n",
       "      <th>total_time_fought(seconds)</th>\n",
       "      <th>total_title_bouts</th>\n",
       "      <th>...</th>\n",
       "      <th>avg_SIG_STR_landed</th>\n",
       "      <th>avg_SIG_STR_pct</th>\n",
       "      <th>avg_SUB_ATT</th>\n",
       "      <th>avg_TD_att</th>\n",
       "      <th>avg_TD_landed</th>\n",
       "      <th>avg_TD_pct</th>\n",
       "      <th>avg_TOTAL_STR_att</th>\n",
       "      <th>avg_TOTAL_STR_landed</th>\n",
       "      <th>Red_win</th>\n",
       "      <th>Draw_win</th>\n",
       "    </tr>\n",
       "    <tr>\n",
       "      <th>newindex</th>\n",
       "      <th></th>\n",
       "      <th></th>\n",
       "      <th></th>\n",
       "      <th></th>\n",
       "      <th></th>\n",
       "      <th></th>\n",
       "      <th></th>\n",
       "      <th></th>\n",
       "      <th></th>\n",
       "      <th></th>\n",
       "      <th></th>\n",
       "      <th></th>\n",
       "      <th></th>\n",
       "      <th></th>\n",
       "      <th></th>\n",
       "      <th></th>\n",
       "      <th></th>\n",
       "      <th></th>\n",
       "      <th></th>\n",
       "      <th></th>\n",
       "      <th></th>\n",
       "    </tr>\n",
       "  </thead>\n",
       "  <tbody>\n",
       "    <tr>\n",
       "      <td>Aaron SimpsonEd Herman2009-08-29</td>\n",
       "      <td>2009-08-29</td>\n",
       "      <td>3</td>\n",
       "      <td>0.0</td>\n",
       "      <td>1.0</td>\n",
       "      <td>0.0</td>\n",
       "      <td>1.0</td>\n",
       "      <td>0.0</td>\n",
       "      <td>1.0</td>\n",
       "      <td>100.000000</td>\n",
       "      <td>0.0</td>\n",
       "      <td>...</td>\n",
       "      <td>16.000000</td>\n",
       "      <td>0.590000</td>\n",
       "      <td>0.000000</td>\n",
       "      <td>1.000000</td>\n",
       "      <td>1.000000</td>\n",
       "      <td>1.000000</td>\n",
       "      <td>40.000000</td>\n",
       "      <td>27.000000</td>\n",
       "      <td>1</td>\n",
       "      <td>0</td>\n",
       "    </tr>\n",
       "    <tr>\n",
       "      <td>Aaron SimpsonMike Pierce2012-10-05</td>\n",
       "      <td>2012-10-05</td>\n",
       "      <td>3</td>\n",
       "      <td>0.0</td>\n",
       "      <td>1.0</td>\n",
       "      <td>0.0</td>\n",
       "      <td>3.0</td>\n",
       "      <td>3.0</td>\n",
       "      <td>26.0</td>\n",
       "      <td>727.400000</td>\n",
       "      <td>0.0</td>\n",
       "      <td>...</td>\n",
       "      <td>42.600000</td>\n",
       "      <td>0.550000</td>\n",
       "      <td>0.300000</td>\n",
       "      <td>9.100000</td>\n",
       "      <td>3.100000</td>\n",
       "      <td>0.391000</td>\n",
       "      <td>119.300000</td>\n",
       "      <td>75.000000</td>\n",
       "      <td>0</td>\n",
       "      <td>0</td>\n",
       "    </tr>\n",
       "    <tr>\n",
       "      <td>Abdul Razak AlhassanNiko Price2018-09-08</td>\n",
       "      <td>2018-09-08</td>\n",
       "      <td>3</td>\n",
       "      <td>0.0</td>\n",
       "      <td>2.0</td>\n",
       "      <td>0.0</td>\n",
       "      <td>2.0</td>\n",
       "      <td>1.0</td>\n",
       "      <td>6.0</td>\n",
       "      <td>360.250000</td>\n",
       "      <td>0.0</td>\n",
       "      <td>...</td>\n",
       "      <td>23.750000</td>\n",
       "      <td>0.450000</td>\n",
       "      <td>0.000000</td>\n",
       "      <td>0.750000</td>\n",
       "      <td>0.250000</td>\n",
       "      <td>0.082500</td>\n",
       "      <td>59.000000</td>\n",
       "      <td>27.500000</td>\n",
       "      <td>1</td>\n",
       "      <td>0</td>\n",
       "    </tr>\n",
       "    <tr>\n",
       "      <td>Abel TrujilloJames Vick2017-02-04</td>\n",
       "      <td>2017-02-04</td>\n",
       "      <td>3</td>\n",
       "      <td>0.0</td>\n",
       "      <td>3.0</td>\n",
       "      <td>0.0</td>\n",
       "      <td>3.0</td>\n",
       "      <td>3.0</td>\n",
       "      <td>18.0</td>\n",
       "      <td>515.777778</td>\n",
       "      <td>0.0</td>\n",
       "      <td>...</td>\n",
       "      <td>25.888889</td>\n",
       "      <td>0.376667</td>\n",
       "      <td>0.333333</td>\n",
       "      <td>2.444444</td>\n",
       "      <td>1.444444</td>\n",
       "      <td>0.581111</td>\n",
       "      <td>70.888889</td>\n",
       "      <td>36.222222</td>\n",
       "      <td>0</td>\n",
       "      <td>0</td>\n",
       "    </tr>\n",
       "    <tr>\n",
       "      <td>Abel TrujilloRoger Bowling2013-12-14</td>\n",
       "      <td>2013-12-14</td>\n",
       "      <td>3</td>\n",
       "      <td>2.0</td>\n",
       "      <td>0.0</td>\n",
       "      <td>0.0</td>\n",
       "      <td>1.0</td>\n",
       "      <td>2.0</td>\n",
       "      <td>7.0</td>\n",
       "      <td>677.666667</td>\n",
       "      <td>0.0</td>\n",
       "      <td>...</td>\n",
       "      <td>39.333333</td>\n",
       "      <td>0.506667</td>\n",
       "      <td>0.666667</td>\n",
       "      <td>1.000000</td>\n",
       "      <td>1.000000</td>\n",
       "      <td>1.000000</td>\n",
       "      <td>95.333333</td>\n",
       "      <td>56.333333</td>\n",
       "      <td>1</td>\n",
       "      <td>0</td>\n",
       "    </tr>\n",
       "  </tbody>\n",
       "</table>\n",
       "<p>5 rows × 54 columns</p>\n",
       "</div>"
      ],
      "text/plain": [
       "                                               date  no_of_rounds  \\\n",
       "newindex                                                            \n",
       "Aaron SimpsonEd Herman2009-08-29         2009-08-29             3   \n",
       "Aaron SimpsonMike Pierce2012-10-05       2012-10-05             3   \n",
       "Abdul Razak AlhassanNiko Price2018-09-08 2018-09-08             3   \n",
       "Abel TrujilloJames Vick2017-02-04        2017-02-04             3   \n",
       "Abel TrujilloRoger Bowling2013-12-14     2013-12-14             3   \n",
       "\n",
       "                                          current_lose_streak  \\\n",
       "newindex                                                        \n",
       "Aaron SimpsonEd Herman2009-08-29                          0.0   \n",
       "Aaron SimpsonMike Pierce2012-10-05                        0.0   \n",
       "Abdul Razak AlhassanNiko Price2018-09-08                  0.0   \n",
       "Abel TrujilloJames Vick2017-02-04                         0.0   \n",
       "Abel TrujilloRoger Bowling2013-12-14                      2.0   \n",
       "\n",
       "                                          current_win_streak  draw  \\\n",
       "newindex                                                             \n",
       "Aaron SimpsonEd Herman2009-08-29                         1.0   0.0   \n",
       "Aaron SimpsonMike Pierce2012-10-05                       1.0   0.0   \n",
       "Abdul Razak AlhassanNiko Price2018-09-08                 2.0   0.0   \n",
       "Abel TrujilloJames Vick2017-02-04                        3.0   0.0   \n",
       "Abel TrujilloRoger Bowling2013-12-14                     0.0   0.0   \n",
       "\n",
       "                                          longest_win_streak  losses  \\\n",
       "newindex                                                               \n",
       "Aaron SimpsonEd Herman2009-08-29                         1.0     0.0   \n",
       "Aaron SimpsonMike Pierce2012-10-05                       3.0     3.0   \n",
       "Abdul Razak AlhassanNiko Price2018-09-08                 2.0     1.0   \n",
       "Abel TrujilloJames Vick2017-02-04                        3.0     3.0   \n",
       "Abel TrujilloRoger Bowling2013-12-14                     1.0     2.0   \n",
       "\n",
       "                                          total_rounds_fought  \\\n",
       "newindex                                                        \n",
       "Aaron SimpsonEd Herman2009-08-29                          1.0   \n",
       "Aaron SimpsonMike Pierce2012-10-05                       26.0   \n",
       "Abdul Razak AlhassanNiko Price2018-09-08                  6.0   \n",
       "Abel TrujilloJames Vick2017-02-04                        18.0   \n",
       "Abel TrujilloRoger Bowling2013-12-14                      7.0   \n",
       "\n",
       "                                          total_time_fought(seconds)  \\\n",
       "newindex                                                               \n",
       "Aaron SimpsonEd Herman2009-08-29                          100.000000   \n",
       "Aaron SimpsonMike Pierce2012-10-05                        727.400000   \n",
       "Abdul Razak AlhassanNiko Price2018-09-08                  360.250000   \n",
       "Abel TrujilloJames Vick2017-02-04                         515.777778   \n",
       "Abel TrujilloRoger Bowling2013-12-14                      677.666667   \n",
       "\n",
       "                                          total_title_bouts  ...  \\\n",
       "newindex                                                     ...   \n",
       "Aaron SimpsonEd Herman2009-08-29                        0.0  ...   \n",
       "Aaron SimpsonMike Pierce2012-10-05                      0.0  ...   \n",
       "Abdul Razak AlhassanNiko Price2018-09-08                0.0  ...   \n",
       "Abel TrujilloJames Vick2017-02-04                       0.0  ...   \n",
       "Abel TrujilloRoger Bowling2013-12-14                    0.0  ...   \n",
       "\n",
       "                                          avg_SIG_STR_landed  avg_SIG_STR_pct  \\\n",
       "newindex                                                                        \n",
       "Aaron SimpsonEd Herman2009-08-29                   16.000000         0.590000   \n",
       "Aaron SimpsonMike Pierce2012-10-05                 42.600000         0.550000   \n",
       "Abdul Razak AlhassanNiko Price2018-09-08           23.750000         0.450000   \n",
       "Abel TrujilloJames Vick2017-02-04                  25.888889         0.376667   \n",
       "Abel TrujilloRoger Bowling2013-12-14               39.333333         0.506667   \n",
       "\n",
       "                                          avg_SUB_ATT  avg_TD_att  \\\n",
       "newindex                                                            \n",
       "Aaron SimpsonEd Herman2009-08-29             0.000000    1.000000   \n",
       "Aaron SimpsonMike Pierce2012-10-05           0.300000    9.100000   \n",
       "Abdul Razak AlhassanNiko Price2018-09-08     0.000000    0.750000   \n",
       "Abel TrujilloJames Vick2017-02-04            0.333333    2.444444   \n",
       "Abel TrujilloRoger Bowling2013-12-14         0.666667    1.000000   \n",
       "\n",
       "                                          avg_TD_landed  avg_TD_pct  \\\n",
       "newindex                                                              \n",
       "Aaron SimpsonEd Herman2009-08-29               1.000000    1.000000   \n",
       "Aaron SimpsonMike Pierce2012-10-05             3.100000    0.391000   \n",
       "Abdul Razak AlhassanNiko Price2018-09-08       0.250000    0.082500   \n",
       "Abel TrujilloJames Vick2017-02-04              1.444444    0.581111   \n",
       "Abel TrujilloRoger Bowling2013-12-14           1.000000    1.000000   \n",
       "\n",
       "                                          avg_TOTAL_STR_att  \\\n",
       "newindex                                                      \n",
       "Aaron SimpsonEd Herman2009-08-29                  40.000000   \n",
       "Aaron SimpsonMike Pierce2012-10-05               119.300000   \n",
       "Abdul Razak AlhassanNiko Price2018-09-08          59.000000   \n",
       "Abel TrujilloJames Vick2017-02-04                 70.888889   \n",
       "Abel TrujilloRoger Bowling2013-12-14              95.333333   \n",
       "\n",
       "                                          avg_TOTAL_STR_landed  Red_win  \\\n",
       "newindex                                                                  \n",
       "Aaron SimpsonEd Herman2009-08-29                     27.000000        1   \n",
       "Aaron SimpsonMike Pierce2012-10-05                   75.000000        0   \n",
       "Abdul Razak AlhassanNiko Price2018-09-08             27.500000        1   \n",
       "Abel TrujilloJames Vick2017-02-04                    36.222222        0   \n",
       "Abel TrujilloRoger Bowling2013-12-14                 56.333333        1   \n",
       "\n",
       "                                          Draw_win  \n",
       "newindex                                            \n",
       "Aaron SimpsonEd Herman2009-08-29                 0  \n",
       "Aaron SimpsonMike Pierce2012-10-05               0  \n",
       "Abdul Razak AlhassanNiko Price2018-09-08         0  \n",
       "Abel TrujilloJames Vick2017-02-04                0  \n",
       "Abel TrujilloRoger Bowling2013-12-14             0  \n",
       "\n",
       "[5 rows x 54 columns]"
      ]
     },
     "execution_count": 2,
     "metadata": {},
     "output_type": "execute_result"
    }
   ],
   "source": [
    "time_df = pd.read_pickle('post2001_non_finish_fights.pkl')\n",
    "time_df.head()"
   ]
  },
  {
   "cell_type": "code",
   "execution_count": 3,
   "metadata": {},
   "outputs": [
    {
     "data": {
      "text/html": [
       "<div>\n",
       "<style scoped>\n",
       "    .dataframe tbody tr th:only-of-type {\n",
       "        vertical-align: middle;\n",
       "    }\n",
       "\n",
       "    .dataframe tbody tr th {\n",
       "        vertical-align: top;\n",
       "    }\n",
       "\n",
       "    .dataframe thead th {\n",
       "        text-align: right;\n",
       "    }\n",
       "</style>\n",
       "<table border=\"1\" class=\"dataframe\">\n",
       "  <thead>\n",
       "    <tr style=\"text-align: right;\">\n",
       "      <th></th>\n",
       "      <th>date</th>\n",
       "      <th>no_of_rounds</th>\n",
       "      <th>current_lose_streak</th>\n",
       "      <th>current_win_streak</th>\n",
       "      <th>draw</th>\n",
       "      <th>longest_win_streak</th>\n",
       "      <th>losses</th>\n",
       "      <th>total_rounds_fought</th>\n",
       "      <th>total_time_fought(seconds)</th>\n",
       "      <th>total_title_bouts</th>\n",
       "      <th>...</th>\n",
       "      <th>avg_SIG_STR_landed</th>\n",
       "      <th>avg_SIG_STR_pct</th>\n",
       "      <th>avg_SUB_ATT</th>\n",
       "      <th>avg_TD_att</th>\n",
       "      <th>avg_TD_landed</th>\n",
       "      <th>avg_TD_pct</th>\n",
       "      <th>avg_TOTAL_STR_att</th>\n",
       "      <th>avg_TOTAL_STR_landed</th>\n",
       "      <th>Red_win</th>\n",
       "      <th>Draw_win</th>\n",
       "    </tr>\n",
       "    <tr>\n",
       "      <th>newindex</th>\n",
       "      <th></th>\n",
       "      <th></th>\n",
       "      <th></th>\n",
       "      <th></th>\n",
       "      <th></th>\n",
       "      <th></th>\n",
       "      <th></th>\n",
       "      <th></th>\n",
       "      <th></th>\n",
       "      <th></th>\n",
       "      <th></th>\n",
       "      <th></th>\n",
       "      <th></th>\n",
       "      <th></th>\n",
       "      <th></th>\n",
       "      <th></th>\n",
       "      <th></th>\n",
       "      <th></th>\n",
       "      <th></th>\n",
       "      <th></th>\n",
       "      <th></th>\n",
       "    </tr>\n",
       "  </thead>\n",
       "  <tbody>\n",
       "    <tr>\n",
       "      <td>Aaron PhillipsMatt Hobar2014-08-23</td>\n",
       "      <td>2014-08-23</td>\n",
       "      <td>3</td>\n",
       "      <td>1.0</td>\n",
       "      <td>0.0</td>\n",
       "      <td>0.0</td>\n",
       "      <td>0.0</td>\n",
       "      <td>1.0</td>\n",
       "      <td>3.0</td>\n",
       "      <td>900.000000</td>\n",
       "      <td>0.0</td>\n",
       "      <td>...</td>\n",
       "      <td>18.0</td>\n",
       "      <td>0.450000</td>\n",
       "      <td>1.000000</td>\n",
       "      <td>0.000</td>\n",
       "      <td>0.000000</td>\n",
       "      <td>0.000000</td>\n",
       "      <td>137.000000</td>\n",
       "      <td>109.000</td>\n",
       "      <td>0</td>\n",
       "      <td>0</td>\n",
       "    </tr>\n",
       "    <tr>\n",
       "      <td>Aaron RileyJoe Brammer2010-05-29</td>\n",
       "      <td>2010-05-29</td>\n",
       "      <td>3</td>\n",
       "      <td>1.0</td>\n",
       "      <td>0.0</td>\n",
       "      <td>0.0</td>\n",
       "      <td>1.0</td>\n",
       "      <td>4.0</td>\n",
       "      <td>13.0</td>\n",
       "      <td>603.666667</td>\n",
       "      <td>0.0</td>\n",
       "      <td>...</td>\n",
       "      <td>38.5</td>\n",
       "      <td>0.381667</td>\n",
       "      <td>0.166667</td>\n",
       "      <td>2.500</td>\n",
       "      <td>0.833333</td>\n",
       "      <td>0.316667</td>\n",
       "      <td>130.833333</td>\n",
       "      <td>70.000</td>\n",
       "      <td>1</td>\n",
       "      <td>0</td>\n",
       "    </tr>\n",
       "    <tr>\n",
       "      <td>Aaron RileyJorge Gurgel2008-11-15</td>\n",
       "      <td>2008-11-15</td>\n",
       "      <td>3</td>\n",
       "      <td>2.0</td>\n",
       "      <td>0.0</td>\n",
       "      <td>0.0</td>\n",
       "      <td>0.0</td>\n",
       "      <td>2.0</td>\n",
       "      <td>4.0</td>\n",
       "      <td>600.000000</td>\n",
       "      <td>0.0</td>\n",
       "      <td>...</td>\n",
       "      <td>32.0</td>\n",
       "      <td>0.405000</td>\n",
       "      <td>0.500000</td>\n",
       "      <td>3.500</td>\n",
       "      <td>1.000000</td>\n",
       "      <td>0.250000</td>\n",
       "      <td>101.000000</td>\n",
       "      <td>55.000</td>\n",
       "      <td>1</td>\n",
       "      <td>0</td>\n",
       "    </tr>\n",
       "    <tr>\n",
       "      <td>Aaron RileyJustin Salas2013-07-27</td>\n",
       "      <td>2013-07-27</td>\n",
       "      <td>3</td>\n",
       "      <td>1.0</td>\n",
       "      <td>0.0</td>\n",
       "      <td>0.0</td>\n",
       "      <td>1.0</td>\n",
       "      <td>5.0</td>\n",
       "      <td>17.0</td>\n",
       "      <td>602.750000</td>\n",
       "      <td>0.0</td>\n",
       "      <td>...</td>\n",
       "      <td>36.0</td>\n",
       "      <td>0.368750</td>\n",
       "      <td>0.125000</td>\n",
       "      <td>2.875</td>\n",
       "      <td>1.000000</td>\n",
       "      <td>0.283750</td>\n",
       "      <td>127.250000</td>\n",
       "      <td>69.375</td>\n",
       "      <td>0</td>\n",
       "      <td>0</td>\n",
       "    </tr>\n",
       "    <tr>\n",
       "      <td>Aaron RileyShane Nelson2009-08-08</td>\n",
       "      <td>2009-08-08</td>\n",
       "      <td>3</td>\n",
       "      <td>1.0</td>\n",
       "      <td>0.0</td>\n",
       "      <td>0.0</td>\n",
       "      <td>1.0</td>\n",
       "      <td>3.0</td>\n",
       "      <td>8.0</td>\n",
       "      <td>536.000000</td>\n",
       "      <td>0.0</td>\n",
       "      <td>...</td>\n",
       "      <td>41.5</td>\n",
       "      <td>0.422500</td>\n",
       "      <td>0.250000</td>\n",
       "      <td>2.000</td>\n",
       "      <td>0.750000</td>\n",
       "      <td>0.375000</td>\n",
       "      <td>118.000000</td>\n",
       "      <td>61.750</td>\n",
       "      <td>1</td>\n",
       "      <td>0</td>\n",
       "    </tr>\n",
       "  </tbody>\n",
       "</table>\n",
       "<p>5 rows × 54 columns</p>\n",
       "</div>"
      ],
      "text/plain": [
       "                                         date  no_of_rounds  \\\n",
       "newindex                                                      \n",
       "Aaron PhillipsMatt Hobar2014-08-23 2014-08-23             3   \n",
       "Aaron RileyJoe Brammer2010-05-29   2010-05-29             3   \n",
       "Aaron RileyJorge Gurgel2008-11-15  2008-11-15             3   \n",
       "Aaron RileyJustin Salas2013-07-27  2013-07-27             3   \n",
       "Aaron RileyShane Nelson2009-08-08  2009-08-08             3   \n",
       "\n",
       "                                    current_lose_streak  current_win_streak  \\\n",
       "newindex                                                                      \n",
       "Aaron PhillipsMatt Hobar2014-08-23                  1.0                 0.0   \n",
       "Aaron RileyJoe Brammer2010-05-29                    1.0                 0.0   \n",
       "Aaron RileyJorge Gurgel2008-11-15                   2.0                 0.0   \n",
       "Aaron RileyJustin Salas2013-07-27                   1.0                 0.0   \n",
       "Aaron RileyShane Nelson2009-08-08                   1.0                 0.0   \n",
       "\n",
       "                                    draw  longest_win_streak  losses  \\\n",
       "newindex                                                               \n",
       "Aaron PhillipsMatt Hobar2014-08-23   0.0                 0.0     1.0   \n",
       "Aaron RileyJoe Brammer2010-05-29     0.0                 1.0     4.0   \n",
       "Aaron RileyJorge Gurgel2008-11-15    0.0                 0.0     2.0   \n",
       "Aaron RileyJustin Salas2013-07-27    0.0                 1.0     5.0   \n",
       "Aaron RileyShane Nelson2009-08-08    0.0                 1.0     3.0   \n",
       "\n",
       "                                    total_rounds_fought  \\\n",
       "newindex                                                  \n",
       "Aaron PhillipsMatt Hobar2014-08-23                  3.0   \n",
       "Aaron RileyJoe Brammer2010-05-29                   13.0   \n",
       "Aaron RileyJorge Gurgel2008-11-15                   4.0   \n",
       "Aaron RileyJustin Salas2013-07-27                  17.0   \n",
       "Aaron RileyShane Nelson2009-08-08                   8.0   \n",
       "\n",
       "                                    total_time_fought(seconds)  \\\n",
       "newindex                                                         \n",
       "Aaron PhillipsMatt Hobar2014-08-23                  900.000000   \n",
       "Aaron RileyJoe Brammer2010-05-29                    603.666667   \n",
       "Aaron RileyJorge Gurgel2008-11-15                   600.000000   \n",
       "Aaron RileyJustin Salas2013-07-27                   602.750000   \n",
       "Aaron RileyShane Nelson2009-08-08                   536.000000   \n",
       "\n",
       "                                    total_title_bouts  ...  \\\n",
       "newindex                                               ...   \n",
       "Aaron PhillipsMatt Hobar2014-08-23                0.0  ...   \n",
       "Aaron RileyJoe Brammer2010-05-29                  0.0  ...   \n",
       "Aaron RileyJorge Gurgel2008-11-15                 0.0  ...   \n",
       "Aaron RileyJustin Salas2013-07-27                 0.0  ...   \n",
       "Aaron RileyShane Nelson2009-08-08                 0.0  ...   \n",
       "\n",
       "                                    avg_SIG_STR_landed  avg_SIG_STR_pct  \\\n",
       "newindex                                                                  \n",
       "Aaron PhillipsMatt Hobar2014-08-23                18.0         0.450000   \n",
       "Aaron RileyJoe Brammer2010-05-29                  38.5         0.381667   \n",
       "Aaron RileyJorge Gurgel2008-11-15                 32.0         0.405000   \n",
       "Aaron RileyJustin Salas2013-07-27                 36.0         0.368750   \n",
       "Aaron RileyShane Nelson2009-08-08                 41.5         0.422500   \n",
       "\n",
       "                                    avg_SUB_ATT  avg_TD_att  avg_TD_landed  \\\n",
       "newindex                                                                     \n",
       "Aaron PhillipsMatt Hobar2014-08-23     1.000000       0.000       0.000000   \n",
       "Aaron RileyJoe Brammer2010-05-29       0.166667       2.500       0.833333   \n",
       "Aaron RileyJorge Gurgel2008-11-15      0.500000       3.500       1.000000   \n",
       "Aaron RileyJustin Salas2013-07-27      0.125000       2.875       1.000000   \n",
       "Aaron RileyShane Nelson2009-08-08      0.250000       2.000       0.750000   \n",
       "\n",
       "                                    avg_TD_pct  avg_TOTAL_STR_att  \\\n",
       "newindex                                                            \n",
       "Aaron PhillipsMatt Hobar2014-08-23    0.000000         137.000000   \n",
       "Aaron RileyJoe Brammer2010-05-29      0.316667         130.833333   \n",
       "Aaron RileyJorge Gurgel2008-11-15     0.250000         101.000000   \n",
       "Aaron RileyJustin Salas2013-07-27     0.283750         127.250000   \n",
       "Aaron RileyShane Nelson2009-08-08     0.375000         118.000000   \n",
       "\n",
       "                                    avg_TOTAL_STR_landed  Red_win  Draw_win  \n",
       "newindex                                                                     \n",
       "Aaron PhillipsMatt Hobar2014-08-23               109.000        0         0  \n",
       "Aaron RileyJoe Brammer2010-05-29                  70.000        1         0  \n",
       "Aaron RileyJorge Gurgel2008-11-15                 55.000        1         0  \n",
       "Aaron RileyJustin Salas2013-07-27                 69.375        0         0  \n",
       "Aaron RileyShane Nelson2009-08-08                 61.750        1         0  \n",
       "\n",
       "[5 rows x 54 columns]"
      ]
     },
     "execution_count": 3,
     "metadata": {},
     "output_type": "execute_result"
    }
   ],
   "source": [
    "fstat_df = pd.read_pickle('post2001_norm_str_pct.pkl')\n",
    "fstat_df.head()"
   ]
  },
  {
   "cell_type": "code",
   "execution_count": 21,
   "metadata": {},
   "outputs": [
    {
     "data": {
      "text/plain": [
       "7712"
      ]
     },
     "execution_count": 21,
     "metadata": {},
     "output_type": "execute_result"
    }
   ],
   "source": [
    "len(fstat_df)"
   ]
  },
  {
   "cell_type": "code",
   "execution_count": 22,
   "metadata": {},
   "outputs": [
    {
     "data": {
      "text/plain": [
       "4314"
      ]
     },
     "execution_count": 22,
     "metadata": {},
     "output_type": "execute_result"
    }
   ],
   "source": [
    "len(time_df)"
   ]
  },
  {
   "cell_type": "code",
   "execution_count": 4,
   "metadata": {},
   "outputs": [
    {
     "name": "stdout",
     "output_type": "stream",
     "text": [
      "0 date\n",
      "1 no_of_rounds\n",
      "2 current_lose_streak\n",
      "3 current_win_streak\n",
      "4 draw\n",
      "5 longest_win_streak\n",
      "6 losses\n",
      "7 total_rounds_fought\n",
      "8 total_time_fought(seconds)\n",
      "9 total_title_bouts\n",
      "10 win_by_Decision_Majority\n",
      "11 win_by_Decision_Split\n",
      "12 win_by_Decision_Unanimous\n",
      "13 win_by_KO/TKO\n",
      "14 win_by_Submission\n",
      "15 win_by_TKO_Doctor_Stoppage\n",
      "16 wins\n",
      "17 Height_cms\n",
      "18 Reach_cms\n",
      "19 Weight_lbs\n",
      "20 age\n",
      "21 stance__Open Stance\n",
      "22 stance__Orthodox\n",
      "23 stance__Sideways\n",
      "24 stance__Southpaw\n",
      "25 stance__Switch\n",
      "26 TIME\n",
      "27 TIMEmod\n",
      "28 avg_BODY_att\n",
      "29 avg_BODY_landed\n",
      "30 avg_CLINCH_att\n",
      "31 avg_CLINCH_landed\n",
      "32 avg_DISTANCE_att\n",
      "33 avg_DISTANCE_landed\n",
      "34 avg_GROUND_att\n",
      "35 avg_GROUND_landed\n",
      "36 avg_HEAD_att\n",
      "37 avg_HEAD_landed\n",
      "38 avg_KD\n",
      "39 avg_LEG_att\n",
      "40 avg_LEG_landed\n",
      "41 avg_PASS\n",
      "42 avg_REV\n",
      "43 avg_SIG_STR_att\n",
      "44 avg_SIG_STR_landed\n",
      "45 avg_SIG_STR_pct\n",
      "46 avg_SUB_ATT\n",
      "47 avg_TD_att\n",
      "48 avg_TD_landed\n",
      "49 avg_TD_pct\n",
      "50 avg_TOTAL_STR_att\n",
      "51 avg_TOTAL_STR_landed\n",
      "52 Red_win\n",
      "53 Draw_win\n"
     ]
    }
   ],
   "source": [
    "for i, c in enumerate(time_df.columns):\n",
    "    print(i,c)"
   ]
  },
  {
   "cell_type": "code",
   "execution_count": 5,
   "metadata": {},
   "outputs": [],
   "source": [
    "xtime_df = time_df[time_df.columns[2:26]]\n",
    "ytime_df = time_df[time_df.columns[27]]"
   ]
  },
  {
   "cell_type": "code",
   "execution_count": 6,
   "metadata": {},
   "outputs": [
    {
     "data": {
      "text/plain": [
       "newindex\n",
       "Aaron SimpsonEd Herman2009-08-29            317\n",
       "Aaron SimpsonMike Pierce2012-10-05          329\n",
       "Abdul Razak AlhassanNiko Price2018-09-08     43\n",
       "Abel TrujilloJames Vick2017-02-04           649\n",
       "Abel TrujilloRoger Bowling2013-12-14        395\n",
       "Name: TIMEmod, dtype: int64"
      ]
     },
     "execution_count": 6,
     "metadata": {},
     "output_type": "execute_result"
    }
   ],
   "source": [
    "ytime_df.head()"
   ]
  },
  {
   "cell_type": "code",
   "execution_count": 8,
   "metadata": {},
   "outputs": [],
   "source": [
    "x_train, x_test, y_train, y_test = train_test_split(xtime_df, ytime_df, test_size=.2, random_state=42)\n"
   ]
  },
  {
   "cell_type": "code",
   "execution_count": 15,
   "metadata": {},
   "outputs": [
    {
     "name": "stdout",
     "output_type": "stream",
     "text": [
      "The R-2 for a model with with a Polynomial Order of 1 and a Lasso Alpha of 0 is 0.0192.\n",
      "\n"
     ]
    },
    {
     "name": "stderr",
     "output_type": "stream",
     "text": [
      "/Users/flatironschool/Desktop/Io/mod4proj/UFC-Fight-Duration-Analysis/library.py:57: UserWarning: With alpha=0, this algorithm does not converge well. You are advised to use the LinearRegression estimator\n",
      "  \n",
      "/Users/flatironschool/anaconda3/envs/learn-env/lib/python3.6/site-packages/sklearn/linear_model/coordinate_descent.py:475: UserWarning: Coordinate descent with no regularization may lead to unexpected results and is discouraged.\n",
      "  positive)\n",
      "/Users/flatironschool/anaconda3/envs/learn-env/lib/python3.6/site-packages/sklearn/linear_model/coordinate_descent.py:475: ConvergenceWarning: Objective did not converge. You might want to increase the number of iterations. Duality gap: 115705212.68857591, tolerance: 24137.788329991305\n",
      "  positive)\n"
     ]
    },
    {
     "data": {
      "text/plain": [
       "Lasso(alpha=0, copy_X=True, fit_intercept=True, max_iter=1000, normalize=False,\n",
       "      positive=False, precompute=False, random_state=42, selection='cyclic',\n",
       "      tol=0.0001, warm_start=False)"
      ]
     },
     "execution_count": 15,
     "metadata": {},
     "output_type": "execute_result"
    }
   ],
   "source": [
    "lib.modeling(x_train, x_test, y_train, y_test, lasso_alpha=0)"
   ]
  },
  {
   "cell_type": "code",
   "execution_count": 17,
   "metadata": {},
   "outputs": [
    {
     "name": "stdout",
     "output_type": "stream",
     "text": [
      "The R-2 for a LASSO Least Angle Regression model with with a Polynomial Order of 1 is 0.019273256649173565.\n",
      " The model with the lowest AIC of 3366.8193369759792 has a LASSO alpha of 0.08111412415533477\n"
     ]
    }
   ],
   "source": [
    "poly1_larsic_time = lib.modeling(x_train, x_test, y_train, y_test, lars_ic=True)"
   ]
  },
  {
   "cell_type": "code",
   "execution_count": 18,
   "metadata": {},
   "outputs": [
    {
     "name": "stdout",
     "output_type": "stream",
     "text": [
      "The R-2 for a LASSO Least Angle Regression model with with a Polynomial Order of 2 is 0.026643503343558805.\n",
      " The model with the lowest AIC of 3446.462246286793 has a LASSO alpha of 3.598004047869489\n"
     ]
    }
   ],
   "source": [
    "poly2_larsic_time = lib.modeling(x_train, x_test, y_train, y_test, lars_ic=True, poly_order=2)"
   ]
  },
  {
   "cell_type": "code",
   "execution_count": 19,
   "metadata": {},
   "outputs": [
    {
     "name": "stdout",
     "output_type": "stream",
     "text": [
      "The R-2 for a LASSO Least Angle Regression model with with a Polynomial Order of 3 is 0.007783620872188202.\n",
      " The model with the lowest AIC of 3506.3353679246975 has a LASSO alpha of 24.639565710596187\n"
     ]
    }
   ],
   "source": [
    "poly3_larsic_time = lib.modeling(x_train, x_test, y_train, y_test, lars_ic=True, poly_order=3)"
   ]
  },
  {
   "cell_type": "code",
   "execution_count": 20,
   "metadata": {},
   "outputs": [
    {
     "name": "stdout",
     "output_type": "stream",
     "text": [
      "The R-2 for a LASSO Least Angle Regression model with with a Polynomial Order of 2 is 0.026643503343558805.\n",
      " The model with the lowest AIC of 3446.462246286793 has a LASSO alpha of 3.598004047869489\n"
     ]
    }
   ],
   "source": [
    "poly2_larsic_time_100k = lib.modeling(x_train, x_test, y_train, y_test, lars_ic=True, poly_order=2, iterations=100000)"
   ]
  },
  {
   "cell_type": "markdown",
   "metadata": {},
   "source": [
    "Having conducted our tests with the reduced-time data (finishing fights taken out), we will now run the same but with the finishing fights included. The data we're using will be the fight stat df, since it contains the majority of the data. "
   ]
  },
  {
   "cell_type": "code",
   "execution_count": 23,
   "metadata": {},
   "outputs": [],
   "source": [
    "xstat_df = fstat_df[fstat_df.columns[2:26]]\n",
    "ystat_df = fstat_df[fstat_df.columns[27]]\n",
    "x_train, x_test, y_train, y_test = train_test_split(xstat_df, ystat_df, test_size=.2, random_state=42)\n",
    "\n"
   ]
  },
  {
   "cell_type": "code",
   "execution_count": 24,
   "metadata": {},
   "outputs": [
    {
     "name": "stdout",
     "output_type": "stream",
     "text": [
      "The R-2 for a model with with a Polynomial Order of 1 and a Lasso Alpha of 0 is 0.047.\n",
      "\n"
     ]
    },
    {
     "name": "stderr",
     "output_type": "stream",
     "text": [
      "/Users/flatironschool/Desktop/Io/mod4proj/UFC-Fight-Duration-Analysis/library.py:57: UserWarning: With alpha=0, this algorithm does not converge well. You are advised to use the LinearRegression estimator\n",
      "  \n",
      "/Users/flatironschool/anaconda3/envs/learn-env/lib/python3.6/site-packages/sklearn/linear_model/coordinate_descent.py:475: UserWarning: Coordinate descent with no regularization may lead to unexpected results and is discouraged.\n",
      "  positive)\n",
      "/Users/flatironschool/anaconda3/envs/learn-env/lib/python3.6/site-packages/sklearn/linear_model/coordinate_descent.py:475: ConvergenceWarning: Objective did not converge. You might want to increase the number of iterations. Duality gap: 376417779.4104693, tolerance: 80804.00684973253\n",
      "  positive)\n"
     ]
    },
    {
     "data": {
      "text/plain": [
       "Lasso(alpha=0, copy_X=True, fit_intercept=True, max_iter=1000, normalize=False,\n",
       "      positive=False, precompute=False, random_state=42, selection='cyclic',\n",
       "      tol=0.0001, warm_start=False)"
      ]
     },
     "execution_count": 24,
     "metadata": {},
     "output_type": "execute_result"
    }
   ],
   "source": [
    "lib.modeling(x_train, x_test, y_train, y_test, lasso_alpha=0)"
   ]
  },
  {
   "cell_type": "code",
   "execution_count": 28,
   "metadata": {},
   "outputs": [
    {
     "name": "stdout",
     "output_type": "stream",
     "text": [
      "The R-2 for a LASSO Least Angle Regression model with with a Polynomial Order of 1 is 0.046930529093824225.\n",
      " The model with the lowest AIC of 5856.083585958087 has a LASSO alpha of 0.01018621614610451\n"
     ]
    }
   ],
   "source": [
    "poly1_larsic_time2 = lib.modeling(x_train, x_test, y_train, y_test, lars_ic=True)"
   ]
  },
  {
   "cell_type": "code",
   "execution_count": 31,
   "metadata": {},
   "outputs": [
    {
     "name": "stdout",
     "output_type": "stream",
     "text": [
      "The R-2 for a LASSO Least Angle Regression model with with a Polynomial Order of 2 is 0.051053232067584275.\n",
      " The model with the lowest AIC of 5876.6900523545155 has a LASSO alpha of 4.541000770467158\n"
     ]
    }
   ],
   "source": [
    "poly2_larsic_time2 = lib.modeling(x_train, x_test, y_train, y_test, lars_ic=True, poly_order=2)"
   ]
  },
  {
   "cell_type": "code",
   "execution_count": 32,
   "metadata": {},
   "outputs": [
    {
     "name": "stderr",
     "output_type": "stream",
     "text": [
      "/Users/flatironschool/anaconda3/envs/learn-env/lib/python3.6/site-packages/sklearn/linear_model/least_angle.py:604: ConvergenceWarning: Early stopping the lars path, as the residues are small and the current value of alpha is no longer well controlled. 327 iterations, alpha=4.977e+00, previous alpha=4.968e+00, with an active set of 212 regressors.\n",
      "  ConvergenceWarning)\n"
     ]
    },
    {
     "name": "stdout",
     "output_type": "stream",
     "text": [
      "The R-2 for a LASSO Least Angle Regression model with with a Polynomial Order of 3 is 0.03754046867254113.\n",
      " The model with the lowest AIC of 5876.077417310332 has a LASSO alpha of 5.8526116710384\n"
     ]
    }
   ],
   "source": [
    "poly2_larsic_time3 = lib.modeling(x_train, x_test, y_train, y_test, lars_ic=True, poly_order=3)"
   ]
  },
  {
   "cell_type": "code",
   "execution_count": 33,
   "metadata": {},
   "outputs": [
    {
     "name": "stdout",
     "output_type": "stream",
     "text": [
      "The R-2 for a LASSO Least Angle Regression model with with a Polynomial Order of 2 is 0.051053232067584275.\n",
      " The model with the lowest AIC of 5876.6900523545155 has a LASSO alpha of 4.541000770467158\n"
     ]
    }
   ],
   "source": [
    "poly2_larsic_time2_100k = lib.modeling(x_train, x_test, y_train, y_test, lars_ic=True, poly_order=2, iterations=100000)"
   ]
  },
  {
   "cell_type": "code",
   "execution_count": 34,
   "metadata": {},
   "outputs": [
    {
     "name": "stdout",
     "output_type": "stream",
     "text": [
      "The R-2 for a model with with a Polynomial Order of 2 and a Lasso Alpha of 0.5 is 0.0357.\n",
      "\n"
     ]
    },
    {
     "data": {
      "text/plain": [
       "Lasso(alpha=0.5, copy_X=True, fit_intercept=True, max_iter=100000,\n",
       "      normalize=False, positive=False, precompute=False, random_state=42,\n",
       "      selection='cyclic', tol=0.0001, warm_start=False)"
      ]
     },
     "execution_count": 34,
     "metadata": {},
     "output_type": "execute_result"
    }
   ],
   "source": [
    "lib.modeling(x_train, x_test, y_train, y_test, lasso_alpha=0.5, lars_ic=False, poly_order=2, iterations=100000)"
   ]
  },
  {
   "cell_type": "markdown",
   "metadata": {},
   "source": [
    "Having tried our best .... we lay there, demotivated. A little vexed, a little sad, a little wiser perhaps.. but ultimately and joyously... alive!"
   ]
  },
  {
   "cell_type": "code",
   "execution_count": 35,
   "metadata": {},
   "outputs": [
    {
     "data": {
      "text/html": [
       "<div>\n",
       "<style scoped>\n",
       "    .dataframe tbody tr th:only-of-type {\n",
       "        vertical-align: middle;\n",
       "    }\n",
       "\n",
       "    .dataframe tbody tr th {\n",
       "        vertical-align: top;\n",
       "    }\n",
       "\n",
       "    .dataframe thead th {\n",
       "        text-align: right;\n",
       "    }\n",
       "</style>\n",
       "<table border=\"1\" class=\"dataframe\">\n",
       "  <thead>\n",
       "    <tr style=\"text-align: right;\">\n",
       "      <th></th>\n",
       "      <th>newindex</th>\n",
       "      <th>Referee</th>\n",
       "      <th>date</th>\n",
       "      <th>location</th>\n",
       "      <th>title_bout</th>\n",
       "      <th>weight_class</th>\n",
       "      <th>no_of_rounds</th>\n",
       "      <th>last_round</th>\n",
       "      <th>last_round_time</th>\n",
       "      <th>Format</th>\n",
       "      <th>...</th>\n",
       "      <th>Height_cms</th>\n",
       "      <th>Reach_cms</th>\n",
       "      <th>Weight_lbs</th>\n",
       "      <th>age</th>\n",
       "      <th>stance__Open Stance</th>\n",
       "      <th>stance__Orthodox</th>\n",
       "      <th>stance__Sideways</th>\n",
       "      <th>stance__Southpaw</th>\n",
       "      <th>stance__Switch</th>\n",
       "      <th>TIMEmod</th>\n",
       "    </tr>\n",
       "  </thead>\n",
       "  <tbody>\n",
       "    <tr>\n",
       "      <td>0</td>\n",
       "      <td>Aaron PhillipsMatt Hobar2014-08-23</td>\n",
       "      <td>Kevin Nix</td>\n",
       "      <td>2014-08-23</td>\n",
       "      <td>Tulsa, Oklahoma, USA</td>\n",
       "      <td>False</td>\n",
       "      <td>Bantamweight</td>\n",
       "      <td>3</td>\n",
       "      <td>3</td>\n",
       "      <td>5:00</td>\n",
       "      <td>3 Rnd (5-5-5)</td>\n",
       "      <td>...</td>\n",
       "      <td>175.26</td>\n",
       "      <td>177.80</td>\n",
       "      <td>135.0</td>\n",
       "      <td>25.0</td>\n",
       "      <td>0</td>\n",
       "      <td>0</td>\n",
       "      <td>0</td>\n",
       "      <td>1</td>\n",
       "      <td>0</td>\n",
       "      <td>900</td>\n",
       "    </tr>\n",
       "    <tr>\n",
       "      <td>1</td>\n",
       "      <td>Aaron RileyJoe Brammer2010-05-29</td>\n",
       "      <td>Steve Mazzagatti</td>\n",
       "      <td>2010-05-29</td>\n",
       "      <td>Las Vegas, Nevada, USA</td>\n",
       "      <td>False</td>\n",
       "      <td>Lightweight</td>\n",
       "      <td>3</td>\n",
       "      <td>3</td>\n",
       "      <td>5:00</td>\n",
       "      <td>3 Rnd (5-5-5)</td>\n",
       "      <td>...</td>\n",
       "      <td>172.72</td>\n",
       "      <td>175.26</td>\n",
       "      <td>155.0</td>\n",
       "      <td>29.0</td>\n",
       "      <td>0</td>\n",
       "      <td>0</td>\n",
       "      <td>0</td>\n",
       "      <td>1</td>\n",
       "      <td>0</td>\n",
       "      <td>900</td>\n",
       "    </tr>\n",
       "    <tr>\n",
       "      <td>2</td>\n",
       "      <td>Aaron RileyJorge Gurgel2008-11-15</td>\n",
       "      <td>Mario Yamasaki</td>\n",
       "      <td>2008-11-15</td>\n",
       "      <td>Las Vegas, Nevada, USA</td>\n",
       "      <td>False</td>\n",
       "      <td>Lightweight</td>\n",
       "      <td>3</td>\n",
       "      <td>3</td>\n",
       "      <td>5:00</td>\n",
       "      <td>3 Rnd (5-5-5)</td>\n",
       "      <td>...</td>\n",
       "      <td>172.72</td>\n",
       "      <td>175.26</td>\n",
       "      <td>155.0</td>\n",
       "      <td>27.0</td>\n",
       "      <td>0</td>\n",
       "      <td>0</td>\n",
       "      <td>0</td>\n",
       "      <td>1</td>\n",
       "      <td>0</td>\n",
       "      <td>900</td>\n",
       "    </tr>\n",
       "    <tr>\n",
       "      <td>3</td>\n",
       "      <td>Aaron RileyJustin Salas2013-07-27</td>\n",
       "      <td>Randy Corley</td>\n",
       "      <td>2013-07-27</td>\n",
       "      <td>Seattle, Washington, USA</td>\n",
       "      <td>False</td>\n",
       "      <td>Lightweight</td>\n",
       "      <td>3</td>\n",
       "      <td>3</td>\n",
       "      <td>5:00</td>\n",
       "      <td>3 Rnd (5-5-5)</td>\n",
       "      <td>...</td>\n",
       "      <td>172.72</td>\n",
       "      <td>175.26</td>\n",
       "      <td>155.0</td>\n",
       "      <td>32.0</td>\n",
       "      <td>0</td>\n",
       "      <td>0</td>\n",
       "      <td>0</td>\n",
       "      <td>1</td>\n",
       "      <td>0</td>\n",
       "      <td>900</td>\n",
       "    </tr>\n",
       "    <tr>\n",
       "      <td>4</td>\n",
       "      <td>Aaron RileyShane Nelson2009-08-08</td>\n",
       "      <td>Kevin Mulhall</td>\n",
       "      <td>2009-08-08</td>\n",
       "      <td>Philadelphia, Pennsylvania, USA</td>\n",
       "      <td>False</td>\n",
       "      <td>Lightweight</td>\n",
       "      <td>3</td>\n",
       "      <td>3</td>\n",
       "      <td>5:00</td>\n",
       "      <td>3 Rnd (5-5-5)</td>\n",
       "      <td>...</td>\n",
       "      <td>172.72</td>\n",
       "      <td>175.26</td>\n",
       "      <td>155.0</td>\n",
       "      <td>28.0</td>\n",
       "      <td>0</td>\n",
       "      <td>0</td>\n",
       "      <td>0</td>\n",
       "      <td>1</td>\n",
       "      <td>0</td>\n",
       "      <td>900</td>\n",
       "    </tr>\n",
       "    <tr>\n",
       "      <td>...</td>\n",
       "      <td>...</td>\n",
       "      <td>...</td>\n",
       "      <td>...</td>\n",
       "      <td>...</td>\n",
       "      <td>...</td>\n",
       "      <td>...</td>\n",
       "      <td>...</td>\n",
       "      <td>...</td>\n",
       "      <td>...</td>\n",
       "      <td>...</td>\n",
       "      <td>...</td>\n",
       "      <td>...</td>\n",
       "      <td>...</td>\n",
       "      <td>...</td>\n",
       "      <td>...</td>\n",
       "      <td>...</td>\n",
       "      <td>...</td>\n",
       "      <td>...</td>\n",
       "      <td>...</td>\n",
       "      <td>...</td>\n",
       "      <td>...</td>\n",
       "    </tr>\n",
       "    <tr>\n",
       "      <td>5141</td>\n",
       "      <td>Zhang LipengBrendan O'Reilly2014-08-23</td>\n",
       "      <td>John Sharp</td>\n",
       "      <td>2014-08-23</td>\n",
       "      <td>Macau, China</td>\n",
       "      <td>False</td>\n",
       "      <td>Lightweight</td>\n",
       "      <td>3</td>\n",
       "      <td>3</td>\n",
       "      <td>5:00</td>\n",
       "      <td>3 Rnd (5-5-5)</td>\n",
       "      <td>...</td>\n",
       "      <td>170.18</td>\n",
       "      <td>175.26</td>\n",
       "      <td>170.0</td>\n",
       "      <td>27.0</td>\n",
       "      <td>0</td>\n",
       "      <td>1</td>\n",
       "      <td>0</td>\n",
       "      <td>0</td>\n",
       "      <td>0</td>\n",
       "      <td>900</td>\n",
       "    </tr>\n",
       "    <tr>\n",
       "      <td>5142</td>\n",
       "      <td>Zhang LipengChris Wade2015-01-18</td>\n",
       "      <td>Kevin MacDonald</td>\n",
       "      <td>2015-01-18</td>\n",
       "      <td>Boston, Massachusetts, USA</td>\n",
       "      <td>False</td>\n",
       "      <td>Lightweight</td>\n",
       "      <td>3</td>\n",
       "      <td>3</td>\n",
       "      <td>5:00</td>\n",
       "      <td>3 Rnd (5-5-5)</td>\n",
       "      <td>...</td>\n",
       "      <td>177.80</td>\n",
       "      <td>177.80</td>\n",
       "      <td>155.0</td>\n",
       "      <td>27.0</td>\n",
       "      <td>0</td>\n",
       "      <td>1</td>\n",
       "      <td>0</td>\n",
       "      <td>0</td>\n",
       "      <td>0</td>\n",
       "      <td>900</td>\n",
       "    </tr>\n",
       "    <tr>\n",
       "      <td>5143</td>\n",
       "      <td>Zhang LipengKajan Johnson2015-05-16</td>\n",
       "      <td>Greg Kleynjans</td>\n",
       "      <td>2015-05-16</td>\n",
       "      <td>Manila, Philippines</td>\n",
       "      <td>False</td>\n",
       "      <td>Lightweight</td>\n",
       "      <td>3</td>\n",
       "      <td>3</td>\n",
       "      <td>5:00</td>\n",
       "      <td>3 Rnd (5-5-5)</td>\n",
       "      <td>...</td>\n",
       "      <td>180.34</td>\n",
       "      <td>190.50</td>\n",
       "      <td>155.0</td>\n",
       "      <td>31.0</td>\n",
       "      <td>0</td>\n",
       "      <td>1</td>\n",
       "      <td>0</td>\n",
       "      <td>0</td>\n",
       "      <td>0</td>\n",
       "      <td>900</td>\n",
       "    </tr>\n",
       "    <tr>\n",
       "      <td>5144</td>\n",
       "      <td>Zubaira TukhugovErnest Chavez2014-10-04</td>\n",
       "      <td>Bobby Rehman</td>\n",
       "      <td>2014-10-04</td>\n",
       "      <td>Stockholm, Sweden</td>\n",
       "      <td>False</td>\n",
       "      <td>Featherweight</td>\n",
       "      <td>3</td>\n",
       "      <td>1</td>\n",
       "      <td>4:21</td>\n",
       "      <td>3 Rnd (5-5-5)</td>\n",
       "      <td>...</td>\n",
       "      <td>172.72</td>\n",
       "      <td>177.80</td>\n",
       "      <td>145.0</td>\n",
       "      <td>31.0</td>\n",
       "      <td>0</td>\n",
       "      <td>1</td>\n",
       "      <td>0</td>\n",
       "      <td>0</td>\n",
       "      <td>0</td>\n",
       "      <td>261</td>\n",
       "    </tr>\n",
       "    <tr>\n",
       "      <td>5145</td>\n",
       "      <td>Zubaira TukhugovPhillipe Nover2015-12-10</td>\n",
       "      <td>Mark Smith</td>\n",
       "      <td>2015-12-10</td>\n",
       "      <td>Las Vegas, Nevada, USA</td>\n",
       "      <td>False</td>\n",
       "      <td>Featherweight</td>\n",
       "      <td>3</td>\n",
       "      <td>3</td>\n",
       "      <td>5:00</td>\n",
       "      <td>3 Rnd (5-5-5)</td>\n",
       "      <td>...</td>\n",
       "      <td>175.26</td>\n",
       "      <td>182.88</td>\n",
       "      <td>145.0</td>\n",
       "      <td>31.0</td>\n",
       "      <td>0</td>\n",
       "      <td>1</td>\n",
       "      <td>0</td>\n",
       "      <td>0</td>\n",
       "      <td>0</td>\n",
       "      <td>900</td>\n",
       "    </tr>\n",
       "  </tbody>\n",
       "</table>\n",
       "<p>10292 rows × 40 columns</p>\n",
       "</div>"
      ],
      "text/plain": [
       "                                      newindex           Referee       date  \\\n",
       "0           Aaron PhillipsMatt Hobar2014-08-23         Kevin Nix 2014-08-23   \n",
       "1             Aaron RileyJoe Brammer2010-05-29  Steve Mazzagatti 2010-05-29   \n",
       "2            Aaron RileyJorge Gurgel2008-11-15    Mario Yamasaki 2008-11-15   \n",
       "3            Aaron RileyJustin Salas2013-07-27      Randy Corley 2013-07-27   \n",
       "4            Aaron RileyShane Nelson2009-08-08     Kevin Mulhall 2009-08-08   \n",
       "...                                        ...               ...        ...   \n",
       "5141    Zhang LipengBrendan O'Reilly2014-08-23        John Sharp 2014-08-23   \n",
       "5142          Zhang LipengChris Wade2015-01-18   Kevin MacDonald 2015-01-18   \n",
       "5143       Zhang LipengKajan Johnson2015-05-16    Greg Kleynjans 2015-05-16   \n",
       "5144   Zubaira TukhugovErnest Chavez2014-10-04      Bobby Rehman 2014-10-04   \n",
       "5145  Zubaira TukhugovPhillipe Nover2015-12-10        Mark Smith 2015-12-10   \n",
       "\n",
       "                             location  title_bout   weight_class  \\\n",
       "0                Tulsa, Oklahoma, USA       False   Bantamweight   \n",
       "1              Las Vegas, Nevada, USA       False    Lightweight   \n",
       "2              Las Vegas, Nevada, USA       False    Lightweight   \n",
       "3            Seattle, Washington, USA       False    Lightweight   \n",
       "4     Philadelphia, Pennsylvania, USA       False    Lightweight   \n",
       "...                               ...         ...            ...   \n",
       "5141                     Macau, China       False    Lightweight   \n",
       "5142       Boston, Massachusetts, USA       False    Lightweight   \n",
       "5143              Manila, Philippines       False    Lightweight   \n",
       "5144                Stockholm, Sweden       False  Featherweight   \n",
       "5145           Las Vegas, Nevada, USA       False  Featherweight   \n",
       "\n",
       "      no_of_rounds  last_round last_round_time         Format  ... Height_cms  \\\n",
       "0                3           3            5:00  3 Rnd (5-5-5)  ...     175.26   \n",
       "1                3           3            5:00  3 Rnd (5-5-5)  ...     172.72   \n",
       "2                3           3            5:00  3 Rnd (5-5-5)  ...     172.72   \n",
       "3                3           3            5:00  3 Rnd (5-5-5)  ...     172.72   \n",
       "4                3           3            5:00  3 Rnd (5-5-5)  ...     172.72   \n",
       "...            ...         ...             ...            ...  ...        ...   \n",
       "5141             3           3            5:00  3 Rnd (5-5-5)  ...     170.18   \n",
       "5142             3           3            5:00  3 Rnd (5-5-5)  ...     177.80   \n",
       "5143             3           3            5:00  3 Rnd (5-5-5)  ...     180.34   \n",
       "5144             3           1            4:21  3 Rnd (5-5-5)  ...     172.72   \n",
       "5145             3           3            5:00  3 Rnd (5-5-5)  ...     175.26   \n",
       "\n",
       "      Reach_cms  Weight_lbs   age  stance__Open Stance  stance__Orthodox  \\\n",
       "0        177.80       135.0  25.0                    0                 0   \n",
       "1        175.26       155.0  29.0                    0                 0   \n",
       "2        175.26       155.0  27.0                    0                 0   \n",
       "3        175.26       155.0  32.0                    0                 0   \n",
       "4        175.26       155.0  28.0                    0                 0   \n",
       "...         ...         ...   ...                  ...               ...   \n",
       "5141     175.26       170.0  27.0                    0                 1   \n",
       "5142     177.80       155.0  27.0                    0                 1   \n",
       "5143     190.50       155.0  31.0                    0                 1   \n",
       "5144     177.80       145.0  31.0                    0                 1   \n",
       "5145     182.88       145.0  31.0                    0                 1   \n",
       "\n",
       "      stance__Sideways  stance__Southpaw  stance__Switch  TIMEmod  \n",
       "0                    0                 1               0      900  \n",
       "1                    0                 1               0      900  \n",
       "2                    0                 1               0      900  \n",
       "3                    0                 1               0      900  \n",
       "4                    0                 1               0      900  \n",
       "...                ...               ...             ...      ...  \n",
       "5141                 0                 0               0      900  \n",
       "5142                 0                 0               0      900  \n",
       "5143                 0                 0               0      900  \n",
       "5144                 0                 0               0      261  \n",
       "5145                 0                 0               0      900  \n",
       "\n",
       "[10292 rows x 40 columns]"
      ]
     },
     "execution_count": 35,
     "metadata": {},
     "output_type": "execute_result"
    }
   ],
   "source": [
    "time_predict_df = pd.read_pickle('time_predict.pkl')\n",
    "time_predict_df"
   ]
  },
  {
   "cell_type": "code",
   "execution_count": 44,
   "metadata": {
    "scrolled": true
   },
   "outputs": [
    {
     "name": "stdout",
     "output_type": "stream",
     "text": [
      "0 newindex\n",
      "1 Referee\n",
      "2 date\n",
      "3 location\n",
      "4 title_bout\n",
      "5 weight_class\n",
      "6 no_of_rounds\n",
      "7 last_round\n",
      "8 last_round_time\n",
      "9 Format\n",
      "10 Fight_type\n",
      "11 Draw\n",
      "12 Red\n",
      "13 fighter\n",
      "14 current_lose_streak\n",
      "15 current_win_streak\n",
      "16 draw\n",
      "17 longest_win_streak\n",
      "18 losses\n",
      "19 total_rounds_fought\n",
      "20 total_time_fought(seconds)\n",
      "21 total_title_bouts\n",
      "22 win_by_Decision_Majority\n",
      "23 win_by_Decision_Split\n",
      "24 win_by_Decision_Unanimous\n",
      "25 win_by_KO/TKO\n",
      "26 win_by_Submission\n",
      "27 win_by_TKO_Doctor_Stoppage\n",
      "28 wins\n",
      "29 Stance\n",
      "30 Height_cms\n",
      "31 Reach_cms\n",
      "32 Weight_lbs\n",
      "33 age\n",
      "34 stance__Open Stance\n",
      "35 stance__Orthodox\n",
      "36 stance__Sideways\n",
      "37 stance__Southpaw\n",
      "38 stance__Switch\n",
      "39 TIMEmod\n"
     ]
    }
   ],
   "source": [
    "for i, c in enumerate(time_pred_post_UFC21):\n",
    "    print(i,c)"
   ]
  },
  {
   "cell_type": "code",
   "execution_count": 98,
   "metadata": {},
   "outputs": [
    {
     "data": {
      "text/plain": [
       "29.31923116037832"
      ]
     },
     "execution_count": 98,
     "metadata": {},
     "output_type": "execute_result"
    }
   ],
   "source": [
    "time_pred_post_UFC21.age.mean()"
   ]
  },
  {
   "cell_type": "code",
   "execution_count": 99,
   "metadata": {
    "scrolled": true
   },
   "outputs": [
    {
     "data": {
      "text/html": [
       "<div>\n",
       "<style scoped>\n",
       "    .dataframe tbody tr th:only-of-type {\n",
       "        vertical-align: middle;\n",
       "    }\n",
       "\n",
       "    .dataframe tbody tr th {\n",
       "        vertical-align: top;\n",
       "    }\n",
       "\n",
       "    .dataframe thead th {\n",
       "        text-align: right;\n",
       "    }\n",
       "</style>\n",
       "<table border=\"1\" class=\"dataframe\">\n",
       "  <thead>\n",
       "    <tr style=\"text-align: right;\">\n",
       "      <th></th>\n",
       "      <th>Referee</th>\n",
       "      <th>date</th>\n",
       "      <th>location</th>\n",
       "      <th>title_bout</th>\n",
       "      <th>weight_class</th>\n",
       "      <th>no_of_rounds</th>\n",
       "      <th>last_round</th>\n",
       "      <th>last_round_time</th>\n",
       "      <th>Format</th>\n",
       "      <th>Fight_type</th>\n",
       "      <th>...</th>\n",
       "      <th>Height_cms</th>\n",
       "      <th>Reach_cms</th>\n",
       "      <th>Weight_lbs</th>\n",
       "      <th>age</th>\n",
       "      <th>stance__Open Stance</th>\n",
       "      <th>stance__Orthodox</th>\n",
       "      <th>stance__Sideways</th>\n",
       "      <th>stance__Southpaw</th>\n",
       "      <th>stance__Switch</th>\n",
       "      <th>TIMEmod</th>\n",
       "    </tr>\n",
       "    <tr>\n",
       "      <th>newindex</th>\n",
       "      <th></th>\n",
       "      <th></th>\n",
       "      <th></th>\n",
       "      <th></th>\n",
       "      <th></th>\n",
       "      <th></th>\n",
       "      <th></th>\n",
       "      <th></th>\n",
       "      <th></th>\n",
       "      <th></th>\n",
       "      <th></th>\n",
       "      <th></th>\n",
       "      <th></th>\n",
       "      <th></th>\n",
       "      <th></th>\n",
       "      <th></th>\n",
       "      <th></th>\n",
       "      <th></th>\n",
       "      <th></th>\n",
       "      <th></th>\n",
       "      <th></th>\n",
       "    </tr>\n",
       "  </thead>\n",
       "  <tbody>\n",
       "    <tr>\n",
       "      <td>Amaury BitettiAlex Andrade2000-06-09</td>\n",
       "      <td>John McCarthy</td>\n",
       "      <td>2000-06-09</td>\n",
       "      <td>Cedar Rapids, Iowa, USA</td>\n",
       "      <td>False</td>\n",
       "      <td>Middleweight</td>\n",
       "      <td>3</td>\n",
       "      <td>2</td>\n",
       "      <td>0:43</td>\n",
       "      <td>3 Rnd (5-5-5)</td>\n",
       "      <td>Middleweight Bout</td>\n",
       "      <td>...</td>\n",
       "      <td>175.26</td>\n",
       "      <td>183.482383</td>\n",
       "      <td>185.0</td>\n",
       "      <td>NaN</td>\n",
       "      <td>0</td>\n",
       "      <td>1</td>\n",
       "      <td>0</td>\n",
       "      <td>0</td>\n",
       "      <td>0</td>\n",
       "      <td>343</td>\n",
       "    </tr>\n",
       "    <tr>\n",
       "      <td>Ben EarwoodChris Lytle2000-11-17</td>\n",
       "      <td>Mario Yamasaki</td>\n",
       "      <td>2000-11-17</td>\n",
       "      <td>Atlantic City, New Jersey, USA</td>\n",
       "      <td>False</td>\n",
       "      <td>Welterweight</td>\n",
       "      <td>2</td>\n",
       "      <td>2</td>\n",
       "      <td>5:00</td>\n",
       "      <td>2 Rnd (5-5)</td>\n",
       "      <td>Welterweight Bout</td>\n",
       "      <td>...</td>\n",
       "      <td>172.72</td>\n",
       "      <td>183.482383</td>\n",
       "      <td>170.0</td>\n",
       "      <td>NaN</td>\n",
       "      <td>0</td>\n",
       "      <td>1</td>\n",
       "      <td>0</td>\n",
       "      <td>0</td>\n",
       "      <td>0</td>\n",
       "      <td>600</td>\n",
       "    </tr>\n",
       "    <tr>\n",
       "      <td>Bob CookTiki Ghosn2000-03-10</td>\n",
       "      <td>John McCarthy</td>\n",
       "      <td>2000-03-10</td>\n",
       "      <td>Lake Charles, Louisiana, USA</td>\n",
       "      <td>False</td>\n",
       "      <td>Lightweight</td>\n",
       "      <td>3</td>\n",
       "      <td>2</td>\n",
       "      <td>1:29</td>\n",
       "      <td>3 Rnd (5-5-5)</td>\n",
       "      <td>Lightweight Bout</td>\n",
       "      <td>...</td>\n",
       "      <td>175.26</td>\n",
       "      <td>183.482383</td>\n",
       "      <td>170.0</td>\n",
       "      <td>NaN</td>\n",
       "      <td>0</td>\n",
       "      <td>1</td>\n",
       "      <td>0</td>\n",
       "      <td>0</td>\n",
       "      <td>0</td>\n",
       "      <td>389</td>\n",
       "    </tr>\n",
       "    <tr>\n",
       "      <td>Brad GummCJ Fernandes2000-09-22</td>\n",
       "      <td>Mario Yamasaki</td>\n",
       "      <td>2000-09-22</td>\n",
       "      <td>New Orleans, Louisiana, USA</td>\n",
       "      <td>False</td>\n",
       "      <td>Welterweight</td>\n",
       "      <td>2</td>\n",
       "      <td>2</td>\n",
       "      <td>5:00</td>\n",
       "      <td>2 Rnd (5-5)</td>\n",
       "      <td>Welterweight Bout</td>\n",
       "      <td>...</td>\n",
       "      <td>180.34</td>\n",
       "      <td>183.482383</td>\n",
       "      <td>170.0</td>\n",
       "      <td>NaN</td>\n",
       "      <td>0</td>\n",
       "      <td>1</td>\n",
       "      <td>0</td>\n",
       "      <td>0</td>\n",
       "      <td>0</td>\n",
       "      <td>600</td>\n",
       "    </tr>\n",
       "    <tr>\n",
       "      <td>Jess LiaudinAnthony Torres2007-09-08</td>\n",
       "      <td>Mario Yamasaki</td>\n",
       "      <td>2007-09-08</td>\n",
       "      <td>London, England, United Kingdom</td>\n",
       "      <td>False</td>\n",
       "      <td>Welterweight</td>\n",
       "      <td>3</td>\n",
       "      <td>1</td>\n",
       "      <td>4:10</td>\n",
       "      <td>3 Rnd (5-5-5)</td>\n",
       "      <td>Welterweight Bout</td>\n",
       "      <td>...</td>\n",
       "      <td>175.26</td>\n",
       "      <td>182.880000</td>\n",
       "      <td>170.0</td>\n",
       "      <td>NaN</td>\n",
       "      <td>0</td>\n",
       "      <td>1</td>\n",
       "      <td>0</td>\n",
       "      <td>0</td>\n",
       "      <td>0</td>\n",
       "      <td>250</td>\n",
       "    </tr>\n",
       "    <tr>\n",
       "      <td>...</td>\n",
       "      <td>...</td>\n",
       "      <td>...</td>\n",
       "      <td>...</td>\n",
       "      <td>...</td>\n",
       "      <td>...</td>\n",
       "      <td>...</td>\n",
       "      <td>...</td>\n",
       "      <td>...</td>\n",
       "      <td>...</td>\n",
       "      <td>...</td>\n",
       "      <td>...</td>\n",
       "      <td>...</td>\n",
       "      <td>...</td>\n",
       "      <td>...</td>\n",
       "      <td>...</td>\n",
       "      <td>...</td>\n",
       "      <td>...</td>\n",
       "      <td>...</td>\n",
       "      <td>...</td>\n",
       "      <td>...</td>\n",
       "      <td>...</td>\n",
       "    </tr>\n",
       "    <tr>\n",
       "      <td>Tim BoetschMichael Patt2008-09-06</td>\n",
       "      <td>Herb Dean</td>\n",
       "      <td>2008-09-06</td>\n",
       "      <td>Atlanta, Georgia, USA</td>\n",
       "      <td>False</td>\n",
       "      <td>Light Heavyweight</td>\n",
       "      <td>3</td>\n",
       "      <td>1</td>\n",
       "      <td>2:03</td>\n",
       "      <td>3 Rnd (5-5-5)</td>\n",
       "      <td>Light Heavyweight Bout</td>\n",
       "      <td>...</td>\n",
       "      <td>182.88</td>\n",
       "      <td>183.482383</td>\n",
       "      <td>205.0</td>\n",
       "      <td>NaN</td>\n",
       "      <td>0</td>\n",
       "      <td>1</td>\n",
       "      <td>0</td>\n",
       "      <td>0</td>\n",
       "      <td>0</td>\n",
       "      <td>123</td>\n",
       "    </tr>\n",
       "    <tr>\n",
       "      <td>Tomasz DrwalIvan Serati2009-01-17</td>\n",
       "      <td>Leon Roberts</td>\n",
       "      <td>2009-01-17</td>\n",
       "      <td>Dublin, Leinster, Ireland</td>\n",
       "      <td>False</td>\n",
       "      <td>Light Heavyweight</td>\n",
       "      <td>3</td>\n",
       "      <td>1</td>\n",
       "      <td>2:02</td>\n",
       "      <td>3 Rnd (5-5-5)</td>\n",
       "      <td>Light Heavyweight Bout</td>\n",
       "      <td>...</td>\n",
       "      <td>182.88</td>\n",
       "      <td>183.482383</td>\n",
       "      <td>205.0</td>\n",
       "      <td>NaN</td>\n",
       "      <td>0</td>\n",
       "      <td>1</td>\n",
       "      <td>0</td>\n",
       "      <td>0</td>\n",
       "      <td>0</td>\n",
       "      <td>122</td>\n",
       "    </tr>\n",
       "    <tr>\n",
       "      <td>Tony DeSouzaPaul Rodriguez2001-06-29</td>\n",
       "      <td>Mario Yamasaki</td>\n",
       "      <td>2001-06-29</td>\n",
       "      <td>East Rutherford, New Jersey, USA</td>\n",
       "      <td>False</td>\n",
       "      <td>Lightweight</td>\n",
       "      <td>3</td>\n",
       "      <td>1</td>\n",
       "      <td>1:05</td>\n",
       "      <td>3 Rnd (5-5-5)</td>\n",
       "      <td>Lightweight Bout</td>\n",
       "      <td>...</td>\n",
       "      <td>170.18</td>\n",
       "      <td>183.482383</td>\n",
       "      <td>155.0</td>\n",
       "      <td>NaN</td>\n",
       "      <td>0</td>\n",
       "      <td>1</td>\n",
       "      <td>0</td>\n",
       "      <td>0</td>\n",
       "      <td>0</td>\n",
       "      <td>65</td>\n",
       "    </tr>\n",
       "    <tr>\n",
       "      <td>Tyson GriffinDavid Lee2006-09-23</td>\n",
       "      <td>Steve Mazzagatti</td>\n",
       "      <td>2006-09-23</td>\n",
       "      <td>Anaheim, California, USA</td>\n",
       "      <td>False</td>\n",
       "      <td>Lightweight</td>\n",
       "      <td>3</td>\n",
       "      <td>1</td>\n",
       "      <td>1:50</td>\n",
       "      <td>3 Rnd (5-5-5)</td>\n",
       "      <td>Lightweight Bout</td>\n",
       "      <td>...</td>\n",
       "      <td>177.80</td>\n",
       "      <td>183.482383</td>\n",
       "      <td>155.0</td>\n",
       "      <td>NaN</td>\n",
       "      <td>0</td>\n",
       "      <td>1</td>\n",
       "      <td>0</td>\n",
       "      <td>0</td>\n",
       "      <td>0</td>\n",
       "      <td>110</td>\n",
       "    </tr>\n",
       "    <tr>\n",
       "      <td>Wesley CorreiraDavid Abbott2003-11-21</td>\n",
       "      <td>John McCarthy</td>\n",
       "      <td>2003-11-21</td>\n",
       "      <td>Uncasville, Connecticut, USA</td>\n",
       "      <td>False</td>\n",
       "      <td>Heavyweight</td>\n",
       "      <td>3</td>\n",
       "      <td>1</td>\n",
       "      <td>2:14</td>\n",
       "      <td>3 Rnd (5-5-5)</td>\n",
       "      <td>Heavyweight Bout</td>\n",
       "      <td>...</td>\n",
       "      <td>182.88</td>\n",
       "      <td>183.482383</td>\n",
       "      <td>265.0</td>\n",
       "      <td>NaN</td>\n",
       "      <td>0</td>\n",
       "      <td>0</td>\n",
       "      <td>0</td>\n",
       "      <td>0</td>\n",
       "      <td>1</td>\n",
       "      <td>134</td>\n",
       "    </tr>\n",
       "  </tbody>\n",
       "</table>\n",
       "<p>69 rows × 39 columns</p>\n",
       "</div>"
      ],
      "text/plain": [
       "                                                Referee       date  \\\n",
       "newindex                                                             \n",
       "Amaury BitettiAlex Andrade2000-06-09      John McCarthy 2000-06-09   \n",
       "Ben EarwoodChris Lytle2000-11-17         Mario Yamasaki 2000-11-17   \n",
       "Bob CookTiki Ghosn2000-03-10              John McCarthy 2000-03-10   \n",
       "Brad GummCJ Fernandes2000-09-22          Mario Yamasaki 2000-09-22   \n",
       "Jess LiaudinAnthony Torres2007-09-08     Mario Yamasaki 2007-09-08   \n",
       "...                                                 ...        ...   \n",
       "Tim BoetschMichael Patt2008-09-06             Herb Dean 2008-09-06   \n",
       "Tomasz DrwalIvan Serati2009-01-17          Leon Roberts 2009-01-17   \n",
       "Tony DeSouzaPaul Rodriguez2001-06-29     Mario Yamasaki 2001-06-29   \n",
       "Tyson GriffinDavid Lee2006-09-23       Steve Mazzagatti 2006-09-23   \n",
       "Wesley CorreiraDavid Abbott2003-11-21     John McCarthy 2003-11-21   \n",
       "\n",
       "                                                               location  \\\n",
       "newindex                                                                  \n",
       "Amaury BitettiAlex Andrade2000-06-09            Cedar Rapids, Iowa, USA   \n",
       "Ben EarwoodChris Lytle2000-11-17         Atlantic City, New Jersey, USA   \n",
       "Bob CookTiki Ghosn2000-03-10               Lake Charles, Louisiana, USA   \n",
       "Brad GummCJ Fernandes2000-09-22             New Orleans, Louisiana, USA   \n",
       "Jess LiaudinAnthony Torres2007-09-08    London, England, United Kingdom   \n",
       "...                                                                 ...   \n",
       "Tim BoetschMichael Patt2008-09-06                 Atlanta, Georgia, USA   \n",
       "Tomasz DrwalIvan Serati2009-01-17             Dublin, Leinster, Ireland   \n",
       "Tony DeSouzaPaul Rodriguez2001-06-29   East Rutherford, New Jersey, USA   \n",
       "Tyson GriffinDavid Lee2006-09-23               Anaheim, California, USA   \n",
       "Wesley CorreiraDavid Abbott2003-11-21      Uncasville, Connecticut, USA   \n",
       "\n",
       "                                       title_bout       weight_class  \\\n",
       "newindex                                                               \n",
       "Amaury BitettiAlex Andrade2000-06-09        False       Middleweight   \n",
       "Ben EarwoodChris Lytle2000-11-17            False       Welterweight   \n",
       "Bob CookTiki Ghosn2000-03-10                False        Lightweight   \n",
       "Brad GummCJ Fernandes2000-09-22             False       Welterweight   \n",
       "Jess LiaudinAnthony Torres2007-09-08        False       Welterweight   \n",
       "...                                           ...                ...   \n",
       "Tim BoetschMichael Patt2008-09-06           False  Light Heavyweight   \n",
       "Tomasz DrwalIvan Serati2009-01-17           False  Light Heavyweight   \n",
       "Tony DeSouzaPaul Rodriguez2001-06-29        False        Lightweight   \n",
       "Tyson GriffinDavid Lee2006-09-23            False        Lightweight   \n",
       "Wesley CorreiraDavid Abbott2003-11-21       False        Heavyweight   \n",
       "\n",
       "                                       no_of_rounds  last_round  \\\n",
       "newindex                                                          \n",
       "Amaury BitettiAlex Andrade2000-06-09              3           2   \n",
       "Ben EarwoodChris Lytle2000-11-17                  2           2   \n",
       "Bob CookTiki Ghosn2000-03-10                      3           2   \n",
       "Brad GummCJ Fernandes2000-09-22                   2           2   \n",
       "Jess LiaudinAnthony Torres2007-09-08              3           1   \n",
       "...                                             ...         ...   \n",
       "Tim BoetschMichael Patt2008-09-06                 3           1   \n",
       "Tomasz DrwalIvan Serati2009-01-17                 3           1   \n",
       "Tony DeSouzaPaul Rodriguez2001-06-29              3           1   \n",
       "Tyson GriffinDavid Lee2006-09-23                  3           1   \n",
       "Wesley CorreiraDavid Abbott2003-11-21             3           1   \n",
       "\n",
       "                                      last_round_time         Format  \\\n",
       "newindex                                                               \n",
       "Amaury BitettiAlex Andrade2000-06-09             0:43  3 Rnd (5-5-5)   \n",
       "Ben EarwoodChris Lytle2000-11-17                 5:00    2 Rnd (5-5)   \n",
       "Bob CookTiki Ghosn2000-03-10                     1:29  3 Rnd (5-5-5)   \n",
       "Brad GummCJ Fernandes2000-09-22                  5:00    2 Rnd (5-5)   \n",
       "Jess LiaudinAnthony Torres2007-09-08             4:10  3 Rnd (5-5-5)   \n",
       "...                                               ...            ...   \n",
       "Tim BoetschMichael Patt2008-09-06                2:03  3 Rnd (5-5-5)   \n",
       "Tomasz DrwalIvan Serati2009-01-17                2:02  3 Rnd (5-5-5)   \n",
       "Tony DeSouzaPaul Rodriguez2001-06-29             1:05  3 Rnd (5-5-5)   \n",
       "Tyson GriffinDavid Lee2006-09-23                 1:50  3 Rnd (5-5-5)   \n",
       "Wesley CorreiraDavid Abbott2003-11-21            2:14  3 Rnd (5-5-5)   \n",
       "\n",
       "                                                   Fight_type  ...  \\\n",
       "newindex                                                       ...   \n",
       "Amaury BitettiAlex Andrade2000-06-09        Middleweight Bout  ...   \n",
       "Ben EarwoodChris Lytle2000-11-17            Welterweight Bout  ...   \n",
       "Bob CookTiki Ghosn2000-03-10                 Lightweight Bout  ...   \n",
       "Brad GummCJ Fernandes2000-09-22             Welterweight Bout  ...   \n",
       "Jess LiaudinAnthony Torres2007-09-08        Welterweight Bout  ...   \n",
       "...                                                       ...  ...   \n",
       "Tim BoetschMichael Patt2008-09-06      Light Heavyweight Bout  ...   \n",
       "Tomasz DrwalIvan Serati2009-01-17      Light Heavyweight Bout  ...   \n",
       "Tony DeSouzaPaul Rodriguez2001-06-29         Lightweight Bout  ...   \n",
       "Tyson GriffinDavid Lee2006-09-23             Lightweight Bout  ...   \n",
       "Wesley CorreiraDavid Abbott2003-11-21        Heavyweight Bout  ...   \n",
       "\n",
       "                                       Height_cms   Reach_cms Weight_lbs  age  \\\n",
       "newindex                                                                        \n",
       "Amaury BitettiAlex Andrade2000-06-09       175.26  183.482383      185.0  NaN   \n",
       "Ben EarwoodChris Lytle2000-11-17           172.72  183.482383      170.0  NaN   \n",
       "Bob CookTiki Ghosn2000-03-10               175.26  183.482383      170.0  NaN   \n",
       "Brad GummCJ Fernandes2000-09-22            180.34  183.482383      170.0  NaN   \n",
       "Jess LiaudinAnthony Torres2007-09-08       175.26  182.880000      170.0  NaN   \n",
       "...                                           ...         ...        ...  ...   \n",
       "Tim BoetschMichael Patt2008-09-06          182.88  183.482383      205.0  NaN   \n",
       "Tomasz DrwalIvan Serati2009-01-17          182.88  183.482383      205.0  NaN   \n",
       "Tony DeSouzaPaul Rodriguez2001-06-29       170.18  183.482383      155.0  NaN   \n",
       "Tyson GriffinDavid Lee2006-09-23           177.80  183.482383      155.0  NaN   \n",
       "Wesley CorreiraDavid Abbott2003-11-21      182.88  183.482383      265.0  NaN   \n",
       "\n",
       "                                       stance__Open Stance  stance__Orthodox  \\\n",
       "newindex                                                                       \n",
       "Amaury BitettiAlex Andrade2000-06-09                     0                 1   \n",
       "Ben EarwoodChris Lytle2000-11-17                         0                 1   \n",
       "Bob CookTiki Ghosn2000-03-10                             0                 1   \n",
       "Brad GummCJ Fernandes2000-09-22                          0                 1   \n",
       "Jess LiaudinAnthony Torres2007-09-08                     0                 1   \n",
       "...                                                    ...               ...   \n",
       "Tim BoetschMichael Patt2008-09-06                        0                 1   \n",
       "Tomasz DrwalIvan Serati2009-01-17                        0                 1   \n",
       "Tony DeSouzaPaul Rodriguez2001-06-29                     0                 1   \n",
       "Tyson GriffinDavid Lee2006-09-23                         0                 1   \n",
       "Wesley CorreiraDavid Abbott2003-11-21                    0                 0   \n",
       "\n",
       "                                       stance__Sideways  stance__Southpaw  \\\n",
       "newindex                                                                    \n",
       "Amaury BitettiAlex Andrade2000-06-09                  0                 0   \n",
       "Ben EarwoodChris Lytle2000-11-17                      0                 0   \n",
       "Bob CookTiki Ghosn2000-03-10                          0                 0   \n",
       "Brad GummCJ Fernandes2000-09-22                       0                 0   \n",
       "Jess LiaudinAnthony Torres2007-09-08                  0                 0   \n",
       "...                                                 ...               ...   \n",
       "Tim BoetschMichael Patt2008-09-06                     0                 0   \n",
       "Tomasz DrwalIvan Serati2009-01-17                     0                 0   \n",
       "Tony DeSouzaPaul Rodriguez2001-06-29                  0                 0   \n",
       "Tyson GriffinDavid Lee2006-09-23                      0                 0   \n",
       "Wesley CorreiraDavid Abbott2003-11-21                 0                 0   \n",
       "\n",
       "                                       stance__Switch  TIMEmod  \n",
       "newindex                                                        \n",
       "Amaury BitettiAlex Andrade2000-06-09                0      343  \n",
       "Ben EarwoodChris Lytle2000-11-17                    0      600  \n",
       "Bob CookTiki Ghosn2000-03-10                        0      389  \n",
       "Brad GummCJ Fernandes2000-09-22                     0      600  \n",
       "Jess LiaudinAnthony Torres2007-09-08                0      250  \n",
       "...                                               ...      ...  \n",
       "Tim BoetschMichael Patt2008-09-06                   0      123  \n",
       "Tomasz DrwalIvan Serati2009-01-17                   0      122  \n",
       "Tony DeSouzaPaul Rodriguez2001-06-29                0       65  \n",
       "Tyson GriffinDavid Lee2006-09-23                    0      110  \n",
       "Wesley CorreiraDavid Abbott2003-11-21               1      134  \n",
       "\n",
       "[69 rows x 39 columns]"
      ]
     },
     "execution_count": 99,
     "metadata": {},
     "output_type": "execute_result"
    }
   ],
   "source": [
    "time_pred_post_UFC21.loc[time_pred_post_UFC21.age.isna()]"
   ]
  },
  {
   "cell_type": "code",
   "execution_count": 100,
   "metadata": {},
   "outputs": [
    {
     "name": "stderr",
     "output_type": "stream",
     "text": [
      "/Users/flatironschool/anaconda3/envs/learn-env/lib/python3.6/site-packages/pandas/core/indexing.py:494: SettingWithCopyWarning: \n",
      "A value is trying to be set on a copy of a slice from a DataFrame.\n",
      "Try using .loc[row_indexer,col_indexer] = value instead\n",
      "\n",
      "See the caveats in the documentation: http://pandas.pydata.org/pandas-docs/stable/user_guide/indexing.html#returning-a-view-versus-a-copy\n",
      "  self.obj[item] = s\n"
     ]
    }
   ],
   "source": [
    "time_pred_post_UFC21.loc[time_pred_post_UFC21.age.isna(), 'age'] = time_pred_post_UFC21.age.median()\n"
   ]
  },
  {
   "cell_type": "code",
   "execution_count": 130,
   "metadata": {},
   "outputs": [],
   "source": [
    "time_pred_post_UFC21 = time_predict_df.loc[time_predict_df.date> '1999-07-17']\n",
    "time_pred_post_UFC21.set_index('newindex', inplace=True)\n",
    "\n",
    "time_pred = time_pred_post_UFC21.drop(columns=['Referee', 'date', 'no_of_rounds','last_round',\n",
    "                                               'location', 'title_bout', \n",
    "                                               'weight_class', 'Format', \n",
    "                                              'Stance', 'fighter', 'Fight_type',\n",
    "                                              'last_round_time', 'total_time_fought(seconds)'])"
   ]
  },
  {
   "cell_type": "code",
   "execution_count": 131,
   "metadata": {},
   "outputs": [],
   "source": [
    "time_pred.loc[time_pred.age.isna(), 'age'] = time_pred.age.median()\n"
   ]
  },
  {
   "cell_type": "code",
   "execution_count": 132,
   "metadata": {},
   "outputs": [
    {
     "name": "stdout",
     "output_type": "stream",
     "text": [
      "<class 'pandas.core.frame.DataFrame'>\n",
      "Index: 9902 entries, Aaron PhillipsMatt Hobar2014-08-23 to Zubaira TukhugovPhillipe Nover2015-12-10\n",
      "Data columns (total 26 columns):\n",
      "Draw                          9902 non-null uint8\n",
      "Red                           9902 non-null uint8\n",
      "current_lose_streak           9902 non-null float64\n",
      "current_win_streak            9902 non-null float64\n",
      "draw                          9902 non-null float64\n",
      "longest_win_streak            9902 non-null float64\n",
      "losses                        9902 non-null float64\n",
      "total_rounds_fought           9902 non-null float64\n",
      "total_title_bouts             9902 non-null float64\n",
      "win_by_Decision_Majority      9902 non-null float64\n",
      "win_by_Decision_Split         9902 non-null float64\n",
      "win_by_Decision_Unanimous     9902 non-null float64\n",
      "win_by_KO/TKO                 9902 non-null float64\n",
      "win_by_Submission             9902 non-null float64\n",
      "win_by_TKO_Doctor_Stoppage    9902 non-null float64\n",
      "wins                          9902 non-null float64\n",
      "Height_cms                    9902 non-null float64\n",
      "Reach_cms                     9902 non-null float64\n",
      "Weight_lbs                    9902 non-null float64\n",
      "age                           9902 non-null float64\n",
      "stance__Open Stance           9902 non-null uint8\n",
      "stance__Orthodox              9902 non-null uint8\n",
      "stance__Sideways              9902 non-null uint8\n",
      "stance__Southpaw              9902 non-null uint8\n",
      "stance__Switch                9902 non-null uint8\n",
      "TIMEmod                       9902 non-null int64\n",
      "dtypes: float64(18), int64(1), uint8(7)\n",
      "memory usage: 1.6+ MB\n"
     ]
    }
   ],
   "source": [
    "time_pred.info()"
   ]
  },
  {
   "cell_type": "code",
   "execution_count": 133,
   "metadata": {},
   "outputs": [
    {
     "data": {
      "text/plain": [
       "9902"
      ]
     },
     "execution_count": 133,
     "metadata": {},
     "output_type": "execute_result"
    }
   ],
   "source": [
    "len(time_pred_post_UFC21)"
   ]
  },
  {
   "cell_type": "code",
   "execution_count": 134,
   "metadata": {},
   "outputs": [],
   "source": [
    "time_x = time_pred.drop(columns=['TIMEmod'])\n",
    "time_y = time_pred['TIMEmod']"
   ]
  },
  {
   "cell_type": "code",
   "execution_count": 135,
   "metadata": {},
   "outputs": [
    {
     "data": {
      "text/html": [
       "<div>\n",
       "<style scoped>\n",
       "    .dataframe tbody tr th:only-of-type {\n",
       "        vertical-align: middle;\n",
       "    }\n",
       "\n",
       "    .dataframe tbody tr th {\n",
       "        vertical-align: top;\n",
       "    }\n",
       "\n",
       "    .dataframe thead th {\n",
       "        text-align: right;\n",
       "    }\n",
       "</style>\n",
       "<table border=\"1\" class=\"dataframe\">\n",
       "  <thead>\n",
       "    <tr style=\"text-align: right;\">\n",
       "      <th></th>\n",
       "      <th>Draw</th>\n",
       "      <th>Red</th>\n",
       "      <th>current_lose_streak</th>\n",
       "      <th>current_win_streak</th>\n",
       "      <th>draw</th>\n",
       "      <th>longest_win_streak</th>\n",
       "      <th>losses</th>\n",
       "      <th>total_rounds_fought</th>\n",
       "      <th>total_title_bouts</th>\n",
       "      <th>win_by_Decision_Majority</th>\n",
       "      <th>...</th>\n",
       "      <th>wins</th>\n",
       "      <th>Height_cms</th>\n",
       "      <th>Reach_cms</th>\n",
       "      <th>Weight_lbs</th>\n",
       "      <th>age</th>\n",
       "      <th>stance__Open Stance</th>\n",
       "      <th>stance__Orthodox</th>\n",
       "      <th>stance__Sideways</th>\n",
       "      <th>stance__Southpaw</th>\n",
       "      <th>stance__Switch</th>\n",
       "    </tr>\n",
       "    <tr>\n",
       "      <th>newindex</th>\n",
       "      <th></th>\n",
       "      <th></th>\n",
       "      <th></th>\n",
       "      <th></th>\n",
       "      <th></th>\n",
       "      <th></th>\n",
       "      <th></th>\n",
       "      <th></th>\n",
       "      <th></th>\n",
       "      <th></th>\n",
       "      <th></th>\n",
       "      <th></th>\n",
       "      <th></th>\n",
       "      <th></th>\n",
       "      <th></th>\n",
       "      <th></th>\n",
       "      <th></th>\n",
       "      <th></th>\n",
       "      <th></th>\n",
       "      <th></th>\n",
       "      <th></th>\n",
       "    </tr>\n",
       "  </thead>\n",
       "  <tbody>\n",
       "    <tr>\n",
       "      <td>Aaron PhillipsMatt Hobar2014-08-23</td>\n",
       "      <td>0</td>\n",
       "      <td>0</td>\n",
       "      <td>1.0</td>\n",
       "      <td>0.0</td>\n",
       "      <td>0.0</td>\n",
       "      <td>0.0</td>\n",
       "      <td>1.0</td>\n",
       "      <td>3.0</td>\n",
       "      <td>0.0</td>\n",
       "      <td>0.0</td>\n",
       "      <td>...</td>\n",
       "      <td>0.0</td>\n",
       "      <td>175.26</td>\n",
       "      <td>177.80</td>\n",
       "      <td>135.0</td>\n",
       "      <td>25.0</td>\n",
       "      <td>0</td>\n",
       "      <td>0</td>\n",
       "      <td>0</td>\n",
       "      <td>1</td>\n",
       "      <td>0</td>\n",
       "    </tr>\n",
       "    <tr>\n",
       "      <td>Aaron RileyJoe Brammer2010-05-29</td>\n",
       "      <td>0</td>\n",
       "      <td>1</td>\n",
       "      <td>1.0</td>\n",
       "      <td>0.0</td>\n",
       "      <td>0.0</td>\n",
       "      <td>1.0</td>\n",
       "      <td>4.0</td>\n",
       "      <td>13.0</td>\n",
       "      <td>0.0</td>\n",
       "      <td>0.0</td>\n",
       "      <td>...</td>\n",
       "      <td>2.0</td>\n",
       "      <td>172.72</td>\n",
       "      <td>175.26</td>\n",
       "      <td>155.0</td>\n",
       "      <td>29.0</td>\n",
       "      <td>0</td>\n",
       "      <td>0</td>\n",
       "      <td>0</td>\n",
       "      <td>1</td>\n",
       "      <td>0</td>\n",
       "    </tr>\n",
       "    <tr>\n",
       "      <td>Aaron RileyJorge Gurgel2008-11-15</td>\n",
       "      <td>0</td>\n",
       "      <td>1</td>\n",
       "      <td>2.0</td>\n",
       "      <td>0.0</td>\n",
       "      <td>0.0</td>\n",
       "      <td>0.0</td>\n",
       "      <td>2.0</td>\n",
       "      <td>4.0</td>\n",
       "      <td>0.0</td>\n",
       "      <td>0.0</td>\n",
       "      <td>...</td>\n",
       "      <td>0.0</td>\n",
       "      <td>172.72</td>\n",
       "      <td>175.26</td>\n",
       "      <td>155.0</td>\n",
       "      <td>27.0</td>\n",
       "      <td>0</td>\n",
       "      <td>0</td>\n",
       "      <td>0</td>\n",
       "      <td>1</td>\n",
       "      <td>0</td>\n",
       "    </tr>\n",
       "    <tr>\n",
       "      <td>Aaron RileyJustin Salas2013-07-27</td>\n",
       "      <td>0</td>\n",
       "      <td>0</td>\n",
       "      <td>1.0</td>\n",
       "      <td>0.0</td>\n",
       "      <td>0.0</td>\n",
       "      <td>1.0</td>\n",
       "      <td>5.0</td>\n",
       "      <td>17.0</td>\n",
       "      <td>0.0</td>\n",
       "      <td>0.0</td>\n",
       "      <td>...</td>\n",
       "      <td>3.0</td>\n",
       "      <td>172.72</td>\n",
       "      <td>175.26</td>\n",
       "      <td>155.0</td>\n",
       "      <td>32.0</td>\n",
       "      <td>0</td>\n",
       "      <td>0</td>\n",
       "      <td>0</td>\n",
       "      <td>1</td>\n",
       "      <td>0</td>\n",
       "    </tr>\n",
       "    <tr>\n",
       "      <td>Aaron RileyShane Nelson2009-08-08</td>\n",
       "      <td>0</td>\n",
       "      <td>1</td>\n",
       "      <td>1.0</td>\n",
       "      <td>0.0</td>\n",
       "      <td>0.0</td>\n",
       "      <td>1.0</td>\n",
       "      <td>3.0</td>\n",
       "      <td>8.0</td>\n",
       "      <td>0.0</td>\n",
       "      <td>0.0</td>\n",
       "      <td>...</td>\n",
       "      <td>1.0</td>\n",
       "      <td>172.72</td>\n",
       "      <td>175.26</td>\n",
       "      <td>155.0</td>\n",
       "      <td>28.0</td>\n",
       "      <td>0</td>\n",
       "      <td>0</td>\n",
       "      <td>0</td>\n",
       "      <td>1</td>\n",
       "      <td>0</td>\n",
       "    </tr>\n",
       "    <tr>\n",
       "      <td>...</td>\n",
       "      <td>...</td>\n",
       "      <td>...</td>\n",
       "      <td>...</td>\n",
       "      <td>...</td>\n",
       "      <td>...</td>\n",
       "      <td>...</td>\n",
       "      <td>...</td>\n",
       "      <td>...</td>\n",
       "      <td>...</td>\n",
       "      <td>...</td>\n",
       "      <td>...</td>\n",
       "      <td>...</td>\n",
       "      <td>...</td>\n",
       "      <td>...</td>\n",
       "      <td>...</td>\n",
       "      <td>...</td>\n",
       "      <td>...</td>\n",
       "      <td>...</td>\n",
       "      <td>...</td>\n",
       "      <td>...</td>\n",
       "      <td>...</td>\n",
       "    </tr>\n",
       "    <tr>\n",
       "      <td>Zhang LipengBrendan O'Reilly2014-08-23</td>\n",
       "      <td>0</td>\n",
       "      <td>1</td>\n",
       "      <td>0.0</td>\n",
       "      <td>0.0</td>\n",
       "      <td>0.0</td>\n",
       "      <td>0.0</td>\n",
       "      <td>0.0</td>\n",
       "      <td>0.0</td>\n",
       "      <td>0.0</td>\n",
       "      <td>0.0</td>\n",
       "      <td>...</td>\n",
       "      <td>0.0</td>\n",
       "      <td>170.18</td>\n",
       "      <td>175.26</td>\n",
       "      <td>170.0</td>\n",
       "      <td>27.0</td>\n",
       "      <td>0</td>\n",
       "      <td>1</td>\n",
       "      <td>0</td>\n",
       "      <td>0</td>\n",
       "      <td>0</td>\n",
       "    </tr>\n",
       "    <tr>\n",
       "      <td>Zhang LipengChris Wade2015-01-18</td>\n",
       "      <td>0</td>\n",
       "      <td>0</td>\n",
       "      <td>0.0</td>\n",
       "      <td>1.0</td>\n",
       "      <td>0.0</td>\n",
       "      <td>1.0</td>\n",
       "      <td>0.0</td>\n",
       "      <td>1.0</td>\n",
       "      <td>0.0</td>\n",
       "      <td>0.0</td>\n",
       "      <td>...</td>\n",
       "      <td>1.0</td>\n",
       "      <td>177.80</td>\n",
       "      <td>177.80</td>\n",
       "      <td>155.0</td>\n",
       "      <td>27.0</td>\n",
       "      <td>0</td>\n",
       "      <td>1</td>\n",
       "      <td>0</td>\n",
       "      <td>0</td>\n",
       "      <td>0</td>\n",
       "    </tr>\n",
       "    <tr>\n",
       "      <td>Zhang LipengKajan Johnson2015-05-16</td>\n",
       "      <td>0</td>\n",
       "      <td>0</td>\n",
       "      <td>1.0</td>\n",
       "      <td>0.0</td>\n",
       "      <td>0.0</td>\n",
       "      <td>0.0</td>\n",
       "      <td>1.0</td>\n",
       "      <td>3.0</td>\n",
       "      <td>0.0</td>\n",
       "      <td>0.0</td>\n",
       "      <td>...</td>\n",
       "      <td>0.0</td>\n",
       "      <td>180.34</td>\n",
       "      <td>190.50</td>\n",
       "      <td>155.0</td>\n",
       "      <td>31.0</td>\n",
       "      <td>0</td>\n",
       "      <td>1</td>\n",
       "      <td>0</td>\n",
       "      <td>0</td>\n",
       "      <td>0</td>\n",
       "    </tr>\n",
       "    <tr>\n",
       "      <td>Zubaira TukhugovErnest Chavez2014-10-04</td>\n",
       "      <td>0</td>\n",
       "      <td>1</td>\n",
       "      <td>1.0</td>\n",
       "      <td>0.0</td>\n",
       "      <td>0.0</td>\n",
       "      <td>1.0</td>\n",
       "      <td>1.0</td>\n",
       "      <td>6.0</td>\n",
       "      <td>0.0</td>\n",
       "      <td>0.0</td>\n",
       "      <td>...</td>\n",
       "      <td>1.0</td>\n",
       "      <td>172.72</td>\n",
       "      <td>177.80</td>\n",
       "      <td>145.0</td>\n",
       "      <td>31.0</td>\n",
       "      <td>0</td>\n",
       "      <td>1</td>\n",
       "      <td>0</td>\n",
       "      <td>0</td>\n",
       "      <td>0</td>\n",
       "    </tr>\n",
       "    <tr>\n",
       "      <td>Zubaira TukhugovPhillipe Nover2015-12-10</td>\n",
       "      <td>0</td>\n",
       "      <td>1</td>\n",
       "      <td>0.0</td>\n",
       "      <td>1.0</td>\n",
       "      <td>0.0</td>\n",
       "      <td>1.0</td>\n",
       "      <td>3.0</td>\n",
       "      <td>10.0</td>\n",
       "      <td>1.0</td>\n",
       "      <td>0.0</td>\n",
       "      <td>...</td>\n",
       "      <td>1.0</td>\n",
       "      <td>175.26</td>\n",
       "      <td>182.88</td>\n",
       "      <td>145.0</td>\n",
       "      <td>31.0</td>\n",
       "      <td>0</td>\n",
       "      <td>1</td>\n",
       "      <td>0</td>\n",
       "      <td>0</td>\n",
       "      <td>0</td>\n",
       "    </tr>\n",
       "  </tbody>\n",
       "</table>\n",
       "<p>9902 rows × 25 columns</p>\n",
       "</div>"
      ],
      "text/plain": [
       "                                          Draw  Red  current_lose_streak  \\\n",
       "newindex                                                                   \n",
       "Aaron PhillipsMatt Hobar2014-08-23           0    0                  1.0   \n",
       "Aaron RileyJoe Brammer2010-05-29             0    1                  1.0   \n",
       "Aaron RileyJorge Gurgel2008-11-15            0    1                  2.0   \n",
       "Aaron RileyJustin Salas2013-07-27            0    0                  1.0   \n",
       "Aaron RileyShane Nelson2009-08-08            0    1                  1.0   \n",
       "...                                        ...  ...                  ...   \n",
       "Zhang LipengBrendan O'Reilly2014-08-23       0    1                  0.0   \n",
       "Zhang LipengChris Wade2015-01-18             0    0                  0.0   \n",
       "Zhang LipengKajan Johnson2015-05-16          0    0                  1.0   \n",
       "Zubaira TukhugovErnest Chavez2014-10-04      0    1                  1.0   \n",
       "Zubaira TukhugovPhillipe Nover2015-12-10     0    1                  0.0   \n",
       "\n",
       "                                          current_win_streak  draw  \\\n",
       "newindex                                                             \n",
       "Aaron PhillipsMatt Hobar2014-08-23                       0.0   0.0   \n",
       "Aaron RileyJoe Brammer2010-05-29                         0.0   0.0   \n",
       "Aaron RileyJorge Gurgel2008-11-15                        0.0   0.0   \n",
       "Aaron RileyJustin Salas2013-07-27                        0.0   0.0   \n",
       "Aaron RileyShane Nelson2009-08-08                        0.0   0.0   \n",
       "...                                                      ...   ...   \n",
       "Zhang LipengBrendan O'Reilly2014-08-23                   0.0   0.0   \n",
       "Zhang LipengChris Wade2015-01-18                         1.0   0.0   \n",
       "Zhang LipengKajan Johnson2015-05-16                      0.0   0.0   \n",
       "Zubaira TukhugovErnest Chavez2014-10-04                  0.0   0.0   \n",
       "Zubaira TukhugovPhillipe Nover2015-12-10                 1.0   0.0   \n",
       "\n",
       "                                          longest_win_streak  losses  \\\n",
       "newindex                                                               \n",
       "Aaron PhillipsMatt Hobar2014-08-23                       0.0     1.0   \n",
       "Aaron RileyJoe Brammer2010-05-29                         1.0     4.0   \n",
       "Aaron RileyJorge Gurgel2008-11-15                        0.0     2.0   \n",
       "Aaron RileyJustin Salas2013-07-27                        1.0     5.0   \n",
       "Aaron RileyShane Nelson2009-08-08                        1.0     3.0   \n",
       "...                                                      ...     ...   \n",
       "Zhang LipengBrendan O'Reilly2014-08-23                   0.0     0.0   \n",
       "Zhang LipengChris Wade2015-01-18                         1.0     0.0   \n",
       "Zhang LipengKajan Johnson2015-05-16                      0.0     1.0   \n",
       "Zubaira TukhugovErnest Chavez2014-10-04                  1.0     1.0   \n",
       "Zubaira TukhugovPhillipe Nover2015-12-10                 1.0     3.0   \n",
       "\n",
       "                                          total_rounds_fought  \\\n",
       "newindex                                                        \n",
       "Aaron PhillipsMatt Hobar2014-08-23                        3.0   \n",
       "Aaron RileyJoe Brammer2010-05-29                         13.0   \n",
       "Aaron RileyJorge Gurgel2008-11-15                         4.0   \n",
       "Aaron RileyJustin Salas2013-07-27                        17.0   \n",
       "Aaron RileyShane Nelson2009-08-08                         8.0   \n",
       "...                                                       ...   \n",
       "Zhang LipengBrendan O'Reilly2014-08-23                    0.0   \n",
       "Zhang LipengChris Wade2015-01-18                          1.0   \n",
       "Zhang LipengKajan Johnson2015-05-16                       3.0   \n",
       "Zubaira TukhugovErnest Chavez2014-10-04                   6.0   \n",
       "Zubaira TukhugovPhillipe Nover2015-12-10                 10.0   \n",
       "\n",
       "                                          total_title_bouts  \\\n",
       "newindex                                                      \n",
       "Aaron PhillipsMatt Hobar2014-08-23                      0.0   \n",
       "Aaron RileyJoe Brammer2010-05-29                        0.0   \n",
       "Aaron RileyJorge Gurgel2008-11-15                       0.0   \n",
       "Aaron RileyJustin Salas2013-07-27                       0.0   \n",
       "Aaron RileyShane Nelson2009-08-08                       0.0   \n",
       "...                                                     ...   \n",
       "Zhang LipengBrendan O'Reilly2014-08-23                  0.0   \n",
       "Zhang LipengChris Wade2015-01-18                        0.0   \n",
       "Zhang LipengKajan Johnson2015-05-16                     0.0   \n",
       "Zubaira TukhugovErnest Chavez2014-10-04                 0.0   \n",
       "Zubaira TukhugovPhillipe Nover2015-12-10                1.0   \n",
       "\n",
       "                                          win_by_Decision_Majority  ...  wins  \\\n",
       "newindex                                                            ...         \n",
       "Aaron PhillipsMatt Hobar2014-08-23                             0.0  ...   0.0   \n",
       "Aaron RileyJoe Brammer2010-05-29                               0.0  ...   2.0   \n",
       "Aaron RileyJorge Gurgel2008-11-15                              0.0  ...   0.0   \n",
       "Aaron RileyJustin Salas2013-07-27                              0.0  ...   3.0   \n",
       "Aaron RileyShane Nelson2009-08-08                              0.0  ...   1.0   \n",
       "...                                                            ...  ...   ...   \n",
       "Zhang LipengBrendan O'Reilly2014-08-23                         0.0  ...   0.0   \n",
       "Zhang LipengChris Wade2015-01-18                               0.0  ...   1.0   \n",
       "Zhang LipengKajan Johnson2015-05-16                            0.0  ...   0.0   \n",
       "Zubaira TukhugovErnest Chavez2014-10-04                        0.0  ...   1.0   \n",
       "Zubaira TukhugovPhillipe Nover2015-12-10                       0.0  ...   1.0   \n",
       "\n",
       "                                          Height_cms  Reach_cms  Weight_lbs  \\\n",
       "newindex                                                                      \n",
       "Aaron PhillipsMatt Hobar2014-08-23            175.26     177.80       135.0   \n",
       "Aaron RileyJoe Brammer2010-05-29              172.72     175.26       155.0   \n",
       "Aaron RileyJorge Gurgel2008-11-15             172.72     175.26       155.0   \n",
       "Aaron RileyJustin Salas2013-07-27             172.72     175.26       155.0   \n",
       "Aaron RileyShane Nelson2009-08-08             172.72     175.26       155.0   \n",
       "...                                              ...        ...         ...   \n",
       "Zhang LipengBrendan O'Reilly2014-08-23        170.18     175.26       170.0   \n",
       "Zhang LipengChris Wade2015-01-18              177.80     177.80       155.0   \n",
       "Zhang LipengKajan Johnson2015-05-16           180.34     190.50       155.0   \n",
       "Zubaira TukhugovErnest Chavez2014-10-04       172.72     177.80       145.0   \n",
       "Zubaira TukhugovPhillipe Nover2015-12-10      175.26     182.88       145.0   \n",
       "\n",
       "                                           age  stance__Open Stance  \\\n",
       "newindex                                                              \n",
       "Aaron PhillipsMatt Hobar2014-08-23        25.0                    0   \n",
       "Aaron RileyJoe Brammer2010-05-29          29.0                    0   \n",
       "Aaron RileyJorge Gurgel2008-11-15         27.0                    0   \n",
       "Aaron RileyJustin Salas2013-07-27         32.0                    0   \n",
       "Aaron RileyShane Nelson2009-08-08         28.0                    0   \n",
       "...                                        ...                  ...   \n",
       "Zhang LipengBrendan O'Reilly2014-08-23    27.0                    0   \n",
       "Zhang LipengChris Wade2015-01-18          27.0                    0   \n",
       "Zhang LipengKajan Johnson2015-05-16       31.0                    0   \n",
       "Zubaira TukhugovErnest Chavez2014-10-04   31.0                    0   \n",
       "Zubaira TukhugovPhillipe Nover2015-12-10  31.0                    0   \n",
       "\n",
       "                                          stance__Orthodox  stance__Sideways  \\\n",
       "newindex                                                                       \n",
       "Aaron PhillipsMatt Hobar2014-08-23                       0                 0   \n",
       "Aaron RileyJoe Brammer2010-05-29                         0                 0   \n",
       "Aaron RileyJorge Gurgel2008-11-15                        0                 0   \n",
       "Aaron RileyJustin Salas2013-07-27                        0                 0   \n",
       "Aaron RileyShane Nelson2009-08-08                        0                 0   \n",
       "...                                                    ...               ...   \n",
       "Zhang LipengBrendan O'Reilly2014-08-23                   1                 0   \n",
       "Zhang LipengChris Wade2015-01-18                         1                 0   \n",
       "Zhang LipengKajan Johnson2015-05-16                      1                 0   \n",
       "Zubaira TukhugovErnest Chavez2014-10-04                  1                 0   \n",
       "Zubaira TukhugovPhillipe Nover2015-12-10                 1                 0   \n",
       "\n",
       "                                          stance__Southpaw  stance__Switch  \n",
       "newindex                                                                    \n",
       "Aaron PhillipsMatt Hobar2014-08-23                       1               0  \n",
       "Aaron RileyJoe Brammer2010-05-29                         1               0  \n",
       "Aaron RileyJorge Gurgel2008-11-15                        1               0  \n",
       "Aaron RileyJustin Salas2013-07-27                        1               0  \n",
       "Aaron RileyShane Nelson2009-08-08                        1               0  \n",
       "...                                                    ...             ...  \n",
       "Zhang LipengBrendan O'Reilly2014-08-23                   0               0  \n",
       "Zhang LipengChris Wade2015-01-18                         0               0  \n",
       "Zhang LipengKajan Johnson2015-05-16                      0               0  \n",
       "Zubaira TukhugovErnest Chavez2014-10-04                  0               0  \n",
       "Zubaira TukhugovPhillipe Nover2015-12-10                 0               0  \n",
       "\n",
       "[9902 rows x 25 columns]"
      ]
     },
     "execution_count": 135,
     "metadata": {},
     "output_type": "execute_result"
    }
   ],
   "source": [
    "time_x"
   ]
  },
  {
   "cell_type": "code",
   "execution_count": 136,
   "metadata": {},
   "outputs": [
    {
     "data": {
      "text/plain": [
       "newindex\n",
       "Aaron PhillipsMatt Hobar2014-08-23          900\n",
       "Aaron RileyJoe Brammer2010-05-29            900\n",
       "Aaron RileyJorge Gurgel2008-11-15           900\n",
       "Aaron RileyJustin Salas2013-07-27           900\n",
       "Aaron RileyShane Nelson2009-08-08           900\n",
       "                                           ... \n",
       "Zhang LipengBrendan O'Reilly2014-08-23      900\n",
       "Zhang LipengChris Wade2015-01-18            900\n",
       "Zhang LipengKajan Johnson2015-05-16         900\n",
       "Zubaira TukhugovErnest Chavez2014-10-04     261\n",
       "Zubaira TukhugovPhillipe Nover2015-12-10    900\n",
       "Name: TIMEmod, Length: 9902, dtype: int64"
      ]
     },
     "execution_count": 136,
     "metadata": {},
     "output_type": "execute_result"
    }
   ],
   "source": [
    "time_y"
   ]
  },
  {
   "cell_type": "code",
   "execution_count": 137,
   "metadata": {},
   "outputs": [],
   "source": [
    "\n",
    "x_train, x_test, y_train, y_test = train_test_split(time_x, time_y, test_size=.2, random_state=42)\n"
   ]
  },
  {
   "cell_type": "code",
   "execution_count": 138,
   "metadata": {},
   "outputs": [
    {
     "name": "stderr",
     "output_type": "stream",
     "text": [
      "/Users/flatironschool/Desktop/Io/mod4proj/UFC-Fight-Duration-Analysis/library.py:57: UserWarning: With alpha=0, this algorithm does not converge well. You are advised to use the LinearRegression estimator\n",
      "  fit = lasso_reg.fit(x_poly_train, y_train)\n",
      "/Users/flatironschool/anaconda3/envs/learn-env/lib/python3.6/site-packages/sklearn/linear_model/coordinate_descent.py:475: UserWarning: Coordinate descent with no regularization may lead to unexpected results and is discouraged.\n",
      "  positive)\n",
      "/Users/flatironschool/anaconda3/envs/learn-env/lib/python3.6/site-packages/sklearn/linear_model/coordinate_descent.py:475: ConvergenceWarning: Objective did not converge. You might want to increase the number of iterations. Duality gap: 471887765.7146546, tolerance: 100856.93390198205\n",
      "  positive)\n"
     ]
    },
    {
     "name": "stdout",
     "output_type": "stream",
     "text": [
      "The R-2 for a model with with a Polynomial Order of 1 and a Lasso Alpha of 0 is 0.0492.\n",
      "\n"
     ]
    }
   ],
   "source": [
    "time_pred_test1 = lib.modeling(x_train, x_test, y_train, y_test, lasso_alpha=0)"
   ]
  },
  {
   "cell_type": "code",
   "execution_count": 139,
   "metadata": {},
   "outputs": [
    {
     "data": {
      "text/plain": [
       "7921"
      ]
     },
     "execution_count": 139,
     "metadata": {},
     "output_type": "execute_result"
    }
   ],
   "source": [
    "len(x_train)"
   ]
  },
  {
   "cell_type": "code",
   "execution_count": 140,
   "metadata": {},
   "outputs": [
    {
     "data": {
      "text/plain": [
       "7921"
      ]
     },
     "execution_count": 140,
     "metadata": {},
     "output_type": "execute_result"
    }
   ],
   "source": [
    "len(y_train)"
   ]
  },
  {
   "cell_type": "code",
   "execution_count": 141,
   "metadata": {
    "scrolled": true
   },
   "outputs": [
    {
     "data": {
      "text/plain": [
       "newindex\n",
       "Gegard MousasiCostas Philippou2015-05-16    900\n",
       "Elias GarciaKai Kara-France2018-12-01       900\n",
       "Ryan LaFlareRoan Carneiro2017-02-11         900\n",
       "Tyson GriffinBart Palaszewski2011-10-29     165\n",
       "Diego SanchezMarcin Held2016-11-05          900\n",
       "Name: TIMEmod, dtype: int64"
      ]
     },
     "execution_count": 141,
     "metadata": {},
     "output_type": "execute_result"
    }
   ],
   "source": [
    "y_train.head()"
   ]
  },
  {
   "cell_type": "code",
   "execution_count": 142,
   "metadata": {},
   "outputs": [
    {
     "data": {
      "text/plain": [
       "0.04920410999450398"
      ]
     },
     "execution_count": 142,
     "metadata": {},
     "output_type": "execute_result"
    }
   ],
   "source": [
    "time_pred_test1[1]"
   ]
  },
  {
   "cell_type": "code",
   "execution_count": 147,
   "metadata": {
    "scrolled": true
   },
   "outputs": [
    {
     "name": "stdout",
     "output_type": "stream",
     "text": [
      "The R-2 for a LASSO Least Angle Regression model with with a Polynomial Order of 2 is 0.05359883060526893.\n",
      " The model with the lowest AIC of 7547.327711438721 has a LASSO alpha of 1.9384731775859336\n"
     ]
    }
   ],
   "source": [
    "poly2_time_aic_pred_test = lib.modeling(x_train, x_test, y_train, y_test, poly_order=2, lars_ic=True)"
   ]
  },
  {
   "cell_type": "code",
   "execution_count": 148,
   "metadata": {},
   "outputs": [
    {
     "name": "stdout",
     "output_type": "stream",
     "text": [
      "The R-2 for a LASSO Least Angle Regression model with with a Polynomial Order of 3 is 0.04019531913924412.\n",
      " The model with the lowest AIC of 7606.73262867433 has a LASSO alpha of 3.975888798743101\n"
     ]
    }
   ],
   "source": [
    "poly3_time_aic_pred_test1 = lib.modeling(x_train, x_test, y_train, y_test, poly_order=3, lars_ic=True)"
   ]
  },
  {
   "cell_type": "code",
   "execution_count": 149,
   "metadata": {
    "collapsed": true
   },
   "outputs": [
    {
     "ename": "KeyboardInterrupt",
     "evalue": "",
     "output_type": "error",
     "traceback": [
      "\u001b[0;31m---------------------------------------------------------------------------\u001b[0m",
      "\u001b[0;31mKeyboardInterrupt\u001b[0m                         Traceback (most recent call last)",
      "\u001b[0;32m<ipython-input-149-58116e5f80a3>\u001b[0m in \u001b[0;36m<module>\u001b[0;34m\u001b[0m\n\u001b[0;32m----> 1\u001b[0;31m \u001b[0mpoly4_time_aic_pred_test1\u001b[0m \u001b[0;34m=\u001b[0m \u001b[0mlib\u001b[0m\u001b[0;34m.\u001b[0m\u001b[0mmodeling\u001b[0m\u001b[0;34m(\u001b[0m\u001b[0mx_train\u001b[0m\u001b[0;34m,\u001b[0m \u001b[0mx_test\u001b[0m\u001b[0;34m,\u001b[0m \u001b[0my_train\u001b[0m\u001b[0;34m,\u001b[0m \u001b[0my_test\u001b[0m\u001b[0;34m,\u001b[0m \u001b[0mpoly_order\u001b[0m\u001b[0;34m=\u001b[0m\u001b[0;36m4\u001b[0m\u001b[0;34m,\u001b[0m \u001b[0mlars_ic\u001b[0m\u001b[0;34m=\u001b[0m\u001b[0;32mTrue\u001b[0m\u001b[0;34m)\u001b[0m\u001b[0;34m\u001b[0m\u001b[0;34m\u001b[0m\u001b[0m\n\u001b[0m",
      "\u001b[0;32m~/Desktop/Io/mod4proj/UFC-Fight-Duration-Analysis/library.py\u001b[0m in \u001b[0;36mmodeling\u001b[0;34m(x_train, x_test, y_train, y_test, poly_order, criterion, iterations, lars_ic, lasso_alpha)\u001b[0m\n\u001b[1;32m     38\u001b[0m \u001b[0;34m\u001b[0m\u001b[0m\n\u001b[1;32m     39\u001b[0m         )\n\u001b[0;32m---> 40\u001b[0;31m         \u001b[0mfit\u001b[0m \u001b[0;34m=\u001b[0m \u001b[0mlars_poly\u001b[0m\u001b[0;34m.\u001b[0m\u001b[0mfit\u001b[0m\u001b[0;34m(\u001b[0m\u001b[0mx_poly_train\u001b[0m\u001b[0;34m,\u001b[0m \u001b[0my_train\u001b[0m\u001b[0;34m)\u001b[0m\u001b[0;34m\u001b[0m\u001b[0;34m\u001b[0m\u001b[0m\n\u001b[0m\u001b[1;32m     41\u001b[0m         \u001b[0mscore\u001b[0m \u001b[0;34m=\u001b[0m \u001b[0mlars_poly\u001b[0m\u001b[0;34m.\u001b[0m\u001b[0mscore\u001b[0m\u001b[0;34m(\u001b[0m\u001b[0mx_poly_test\u001b[0m\u001b[0;34m,\u001b[0m \u001b[0my_test\u001b[0m\u001b[0;34m)\u001b[0m\u001b[0;34m\u001b[0m\u001b[0;34m\u001b[0m\u001b[0m\n\u001b[1;32m     42\u001b[0m         \u001b[0maic_score\u001b[0m \u001b[0;34m=\u001b[0m \u001b[0mnp\u001b[0m\u001b[0;34m.\u001b[0m\u001b[0mmean\u001b[0m\u001b[0;34m(\u001b[0m\u001b[0mlars_poly\u001b[0m\u001b[0;34m.\u001b[0m\u001b[0mcriterion_\u001b[0m\u001b[0;34m)\u001b[0m\u001b[0;34m\u001b[0m\u001b[0;34m\u001b[0m\u001b[0m\n",
      "\u001b[0;32m~/anaconda3/envs/learn-env/lib/python3.6/site-packages/sklearn/linear_model/least_angle.py\u001b[0m in \u001b[0;36mfit\u001b[0;34m(self, X, y, copy_X)\u001b[0m\n\u001b[1;32m   1782\u001b[0m             \u001b[0mX\u001b[0m\u001b[0;34m,\u001b[0m \u001b[0my\u001b[0m\u001b[0;34m,\u001b[0m \u001b[0mGram\u001b[0m\u001b[0;34m=\u001b[0m\u001b[0mGram\u001b[0m\u001b[0;34m,\u001b[0m \u001b[0mcopy_X\u001b[0m\u001b[0;34m=\u001b[0m\u001b[0mcopy_X\u001b[0m\u001b[0;34m,\u001b[0m \u001b[0mcopy_Gram\u001b[0m\u001b[0;34m=\u001b[0m\u001b[0;32mTrue\u001b[0m\u001b[0;34m,\u001b[0m \u001b[0malpha_min\u001b[0m\u001b[0;34m=\u001b[0m\u001b[0;36m0.0\u001b[0m\u001b[0;34m,\u001b[0m\u001b[0;34m\u001b[0m\u001b[0;34m\u001b[0m\u001b[0m\n\u001b[1;32m   1783\u001b[0m             \u001b[0mmethod\u001b[0m\u001b[0;34m=\u001b[0m\u001b[0;34m'lasso'\u001b[0m\u001b[0;34m,\u001b[0m \u001b[0mverbose\u001b[0m\u001b[0;34m=\u001b[0m\u001b[0mself\u001b[0m\u001b[0;34m.\u001b[0m\u001b[0mverbose\u001b[0m\u001b[0;34m,\u001b[0m \u001b[0mmax_iter\u001b[0m\u001b[0;34m=\u001b[0m\u001b[0mmax_iter\u001b[0m\u001b[0;34m,\u001b[0m\u001b[0;34m\u001b[0m\u001b[0;34m\u001b[0m\u001b[0m\n\u001b[0;32m-> 1784\u001b[0;31m             eps=self.eps, return_n_iter=True, positive=self.positive)\n\u001b[0m\u001b[1;32m   1785\u001b[0m \u001b[0;34m\u001b[0m\u001b[0m\n\u001b[1;32m   1786\u001b[0m         \u001b[0mn_samples\u001b[0m \u001b[0;34m=\u001b[0m \u001b[0mX\u001b[0m\u001b[0;34m.\u001b[0m\u001b[0mshape\u001b[0m\u001b[0;34m[\u001b[0m\u001b[0;36m0\u001b[0m\u001b[0;34m]\u001b[0m\u001b[0;34m\u001b[0m\u001b[0;34m\u001b[0m\u001b[0m\n",
      "\u001b[0;32m~/anaconda3/envs/learn-env/lib/python3.6/site-packages/sklearn/linear_model/least_angle.py\u001b[0m in \u001b[0;36mlars_path\u001b[0;34m(X, y, Xy, Gram, max_iter, alpha_min, method, copy_X, eps, copy_Gram, verbose, return_path, return_n_iter, positive)\u001b[0m\n\u001b[1;32m    161\u001b[0m         \u001b[0malpha_min\u001b[0m\u001b[0;34m=\u001b[0m\u001b[0malpha_min\u001b[0m\u001b[0;34m,\u001b[0m \u001b[0mmethod\u001b[0m\u001b[0;34m=\u001b[0m\u001b[0mmethod\u001b[0m\u001b[0;34m,\u001b[0m \u001b[0mcopy_X\u001b[0m\u001b[0;34m=\u001b[0m\u001b[0mcopy_X\u001b[0m\u001b[0;34m,\u001b[0m\u001b[0;34m\u001b[0m\u001b[0;34m\u001b[0m\u001b[0m\n\u001b[1;32m    162\u001b[0m         \u001b[0meps\u001b[0m\u001b[0;34m=\u001b[0m\u001b[0meps\u001b[0m\u001b[0;34m,\u001b[0m \u001b[0mcopy_Gram\u001b[0m\u001b[0;34m=\u001b[0m\u001b[0mcopy_Gram\u001b[0m\u001b[0;34m,\u001b[0m \u001b[0mverbose\u001b[0m\u001b[0;34m=\u001b[0m\u001b[0mverbose\u001b[0m\u001b[0;34m,\u001b[0m \u001b[0mreturn_path\u001b[0m\u001b[0;34m=\u001b[0m\u001b[0mreturn_path\u001b[0m\u001b[0;34m,\u001b[0m\u001b[0;34m\u001b[0m\u001b[0;34m\u001b[0m\u001b[0m\n\u001b[0;32m--> 163\u001b[0;31m         return_n_iter=return_n_iter, positive=positive)\n\u001b[0m\u001b[1;32m    164\u001b[0m \u001b[0;34m\u001b[0m\u001b[0m\n\u001b[1;32m    165\u001b[0m \u001b[0;34m\u001b[0m\u001b[0m\n",
      "\u001b[0;32m~/anaconda3/envs/learn-env/lib/python3.6/site-packages/sklearn/linear_model/least_angle.py\u001b[0m in \u001b[0;36m_lars_path_solver\u001b[0;34m(X, y, Xy, Gram, n_samples, max_iter, alpha_min, method, copy_X, eps, copy_Gram, verbose, return_path, return_n_iter, positive)\u001b[0m\n\u001b[1;32m    637\u001b[0m             \u001b[0;31m# correlation between each unactive variables and\u001b[0m\u001b[0;34m\u001b[0m\u001b[0;34m\u001b[0m\u001b[0;34m\u001b[0m\u001b[0m\n\u001b[1;32m    638\u001b[0m             \u001b[0;31m# eqiangular vector\u001b[0m\u001b[0;34m\u001b[0m\u001b[0;34m\u001b[0m\u001b[0;34m\u001b[0m\u001b[0m\n\u001b[0;32m--> 639\u001b[0;31m             \u001b[0mcorr_eq_dir\u001b[0m \u001b[0;34m=\u001b[0m \u001b[0mnp\u001b[0m\u001b[0;34m.\u001b[0m\u001b[0mdot\u001b[0m\u001b[0;34m(\u001b[0m\u001b[0mX\u001b[0m\u001b[0;34m.\u001b[0m\u001b[0mT\u001b[0m\u001b[0;34m[\u001b[0m\u001b[0mn_active\u001b[0m\u001b[0;34m:\u001b[0m\u001b[0;34m]\u001b[0m\u001b[0;34m,\u001b[0m \u001b[0meq_dir\u001b[0m\u001b[0;34m)\u001b[0m\u001b[0;34m\u001b[0m\u001b[0;34m\u001b[0m\u001b[0m\n\u001b[0m\u001b[1;32m    640\u001b[0m         \u001b[0;32melse\u001b[0m\u001b[0;34m:\u001b[0m\u001b[0;34m\u001b[0m\u001b[0;34m\u001b[0m\u001b[0m\n\u001b[1;32m    641\u001b[0m             \u001b[0;31m# if huge number of features, this takes 50% of time, I\u001b[0m\u001b[0;34m\u001b[0m\u001b[0;34m\u001b[0m\u001b[0;34m\u001b[0m\u001b[0m\n",
      "\u001b[0;31mKeyboardInterrupt\u001b[0m: "
     ]
    }
   ],
   "source": [
    "poly4_time_aic_pred_test1 = lib.modeling(x_train, x_test, y_train, y_test, poly_order=4, lars_ic=True)"
   ]
  },
  {
   "cell_type": "code",
   "execution_count": 150,
   "metadata": {
    "scrolled": true
   },
   "outputs": [
    {
     "name": "stderr",
     "output_type": "stream",
     "text": [
      "/Users/flatironschool/Desktop/Io/mod4proj/UFC-Fight-Duration-Analysis/library.py:57: UserWarning: With alpha=0, this algorithm does not converge well. You are advised to use the LinearRegression estimator\n",
      "  fit = lasso_reg.fit(x_poly_train, y_train)\n",
      "/Users/flatironschool/anaconda3/envs/learn-env/lib/python3.6/site-packages/sklearn/linear_model/coordinate_descent.py:475: UserWarning: Coordinate descent with no regularization may lead to unexpected results and is discouraged.\n",
      "  positive)\n"
     ]
    },
    {
     "name": "stdout",
     "output_type": "stream",
     "text": [
      "The R-2 for a model with with a Polynomial Order of 2 and a Lasso Alpha of 0 is 0.0322.\n",
      "\n"
     ]
    },
    {
     "name": "stderr",
     "output_type": "stream",
     "text": [
      "/Users/flatironschool/anaconda3/envs/learn-env/lib/python3.6/site-packages/sklearn/linear_model/coordinate_descent.py:475: ConvergenceWarning: Objective did not converge. You might want to increase the number of iterations. Duality gap: 452443939.5476066, tolerance: 100856.93390198205\n",
      "  positive)\n"
     ]
    }
   ],
   "source": [
    "poly2time_pred_test2 = lib.modeling(x_train, x_test, y_train, y_test,poly_order=2, lasso_alpha=0)"
   ]
  },
  {
   "cell_type": "code",
   "execution_count": 153,
   "metadata": {
    "scrolled": true
   },
   "outputs": [
    {
     "name": "stderr",
     "output_type": "stream",
     "text": [
      "/Users/flatironschool/anaconda3/envs/learn-env/lib/python3.6/site-packages/sklearn/linear_model/least_angle.py:578: ConvergenceWarning: Regressors in active set degenerate. Dropping a regressor, after 115 iterations, i.e. alpha=2.394e-02, with an active set of 93 regressors, and the smallest cholesky pivot element being 4.215e-08. Reduce max_iter or increase eps parameters.\n",
      "  ConvergenceWarning)\n"
     ]
    },
    {
     "name": "stdout",
     "output_type": "stream",
     "text": [
      "The R-2 for a LASSO Least Angle Regression model with with a Polynomial Order of 2 is 0.05470015537424788.\n",
      " The model with the lowest AIC of 7544.057980083467 has a LASSO alpha of 0.02731169176452389\n"
     ]
    },
    {
     "name": "stderr",
     "output_type": "stream",
     "text": [
      "/Users/flatironschool/anaconda3/envs/learn-env/lib/python3.6/site-packages/sklearn/linear_model/least_angle.py:578: ConvergenceWarning: Regressors in active set degenerate. Dropping a regressor, after 453 iterations, i.e. alpha=7.917e-04, with an active set of 235 regressors, and the smallest cholesky pivot element being 8.878e-08. Reduce max_iter or increase eps parameters.\n",
      "  ConvergenceWarning)\n",
      "/Users/flatironschool/anaconda3/envs/learn-env/lib/python3.6/site-packages/sklearn/linear_model/least_angle.py:578: ConvergenceWarning: Regressors in active set degenerate. Dropping a regressor, after 453 iterations, i.e. alpha=7.917e-04, with an active set of 235 regressors, and the smallest cholesky pivot element being 6.664e-08. Reduce max_iter or increase eps parameters.\n",
      "  ConvergenceWarning)\n",
      "/Users/flatironschool/anaconda3/envs/learn-env/lib/python3.6/site-packages/sklearn/linear_model/least_angle.py:578: ConvergenceWarning: Regressors in active set degenerate. Dropping a regressor, after 453 iterations, i.e. alpha=7.294e-04, with an active set of 235 regressors, and the smallest cholesky pivot element being 7.451e-08. Reduce max_iter or increase eps parameters.\n",
      "  ConvergenceWarning)\n",
      "/Users/flatironschool/anaconda3/envs/learn-env/lib/python3.6/site-packages/sklearn/linear_model/least_angle.py:578: ConvergenceWarning: Regressors in active set degenerate. Dropping a regressor, after 453 iterations, i.e. alpha=7.200e-04, with an active set of 235 regressors, and the smallest cholesky pivot element being 4.712e-08. Reduce max_iter or increase eps parameters.\n",
      "  ConvergenceWarning)\n",
      "/Users/flatironschool/anaconda3/envs/learn-env/lib/python3.6/site-packages/sklearn/linear_model/least_angle.py:578: ConvergenceWarning: Regressors in active set degenerate. Dropping a regressor, after 453 iterations, i.e. alpha=7.064e-04, with an active set of 235 regressors, and the smallest cholesky pivot element being 4.344e-08. Reduce max_iter or increase eps parameters.\n",
      "  ConvergenceWarning)\n",
      "/Users/flatironschool/anaconda3/envs/learn-env/lib/python3.6/site-packages/sklearn/linear_model/least_angle.py:604: ConvergenceWarning: Early stopping the lars path, as the residues are small and the current value of alpha is no longer well controlled. 455 iterations, alpha=7.890e-04, previous alpha=6.806e-04, with an active set of 236 regressors.\n",
      "  ConvergenceWarning)\n"
     ]
    }
   ],
   "source": [
    "poly2_time_aic_pred_test = lib.modeling(x_train, x_test, y_train, y_test, poly_order=2,iterations=1000000, lars_ic=True)"
   ]
  },
  {
   "cell_type": "code",
   "execution_count": 154,
   "metadata": {},
   "outputs": [
    {
     "name": "stdout",
     "output_type": "stream",
     "text": [
      "The R-2 for a LASSO Least Angle Regression model with with a Polynomial Order of 2 is 0.05386037347525041.\n",
      " The model with the lowest AIC of 7938.939443473745 has a LASSO alpha of 2.3619539908887823\n"
     ]
    }
   ],
   "source": [
    "poly2_time_aic_pred_test = lib.modeling(x_train, x_test, y_train, y_test, poly_order=2,iterations=1000000, lars_ic=True)"
   ]
  },
  {
   "cell_type": "code",
   "execution_count": 201,
   "metadata": {},
   "outputs": [
    {
     "data": {
      "text/plain": [
       "array([ 6.12016985e+02,  0.00000000e+00,  0.00000000e+00,  1.34899455e+00,\n",
       "        0.00000000e+00,  0.00000000e+00,  0.00000000e+00, -5.10597730e+01,\n",
       "        8.51042520e+01,  1.33600193e+01,  0.00000000e+00,  5.12051221e+00,\n",
       "        1.40455203e+00,  0.00000000e+00, -4.46218247e+00,  0.00000000e+00,\n",
       "        0.00000000e+00, -1.86845488e+01, -5.52805640e+00, -3.17546013e+01,\n",
       "        0.00000000e+00,  0.00000000e+00,  0.00000000e+00,  0.00000000e+00,\n",
       "        0.00000000e+00,  0.00000000e+00,  9.37145214e-01,  0.00000000e+00,\n",
       "        0.00000000e+00,  7.67897532e-01,  0.00000000e+00,  0.00000000e+00,\n",
       "        0.00000000e+00,  0.00000000e+00,  0.00000000e+00,  8.24144471e-01,\n",
       "        0.00000000e+00,  0.00000000e+00,  6.28921935e+00, -1.77430592e+00,\n",
       "       -8.21593247e+00,  0.00000000e+00,  0.00000000e+00,  1.04920326e+00,\n",
       "        5.49767966e+00,  2.51313963e+00,  0.00000000e+00,  0.00000000e+00,\n",
       "        0.00000000e+00,  1.45561006e+00, -6.15700283e+00,  5.71192997e+00,\n",
       "        0.00000000e+00,  1.76303818e+00,  0.00000000e+00,  0.00000000e+00,\n",
       "        1.08148975e+01,  2.34749572e+00,  4.00370801e+00, -9.67138847e-01,\n",
       "        6.14220271e-01,  0.00000000e+00,  0.00000000e+00, -2.29536046e+00,\n",
       "        8.46808458e-01,  0.00000000e+00,  0.00000000e+00,  0.00000000e+00,\n",
       "       -4.09808867e-01, -2.69268832e+00,  0.00000000e+00,  0.00000000e+00,\n",
       "        0.00000000e+00,  0.00000000e+00,  0.00000000e+00,  1.29660837e+00,\n",
       "       -1.19824036e+01,  0.00000000e+00,  0.00000000e+00,  0.00000000e+00,\n",
       "        0.00000000e+00,  0.00000000e+00,  0.00000000e+00,  0.00000000e+00,\n",
       "        0.00000000e+00,  0.00000000e+00,  0.00000000e+00,  0.00000000e+00,\n",
       "       -2.08995678e+00,  0.00000000e+00,  0.00000000e+00,  0.00000000e+00,\n",
       "        0.00000000e+00,  0.00000000e+00,  2.85874472e+00,  0.00000000e+00,\n",
       "        0.00000000e+00,  0.00000000e+00,  3.33530629e+00,  0.00000000e+00,\n",
       "        0.00000000e+00,  0.00000000e+00,  0.00000000e+00, -6.94572769e+00,\n",
       "        0.00000000e+00,  0.00000000e+00,  3.01434154e+00, -5.92499824e-01,\n",
       "        0.00000000e+00, -1.89757355e+00,  0.00000000e+00,  0.00000000e+00,\n",
       "        0.00000000e+00,  0.00000000e+00,  0.00000000e+00,  0.00000000e+00,\n",
       "        0.00000000e+00,  0.00000000e+00,  0.00000000e+00,  6.02656309e+00,\n",
       "        0.00000000e+00,  0.00000000e+00,  0.00000000e+00,  0.00000000e+00,\n",
       "        0.00000000e+00,  0.00000000e+00,  0.00000000e+00,  0.00000000e+00,\n",
       "        0.00000000e+00,  0.00000000e+00,  0.00000000e+00,  0.00000000e+00,\n",
       "        0.00000000e+00,  0.00000000e+00,  0.00000000e+00,  0.00000000e+00,\n",
       "        0.00000000e+00,  0.00000000e+00,  0.00000000e+00,  0.00000000e+00,\n",
       "        0.00000000e+00,  9.41840406e-01,  0.00000000e+00,  0.00000000e+00,\n",
       "        0.00000000e+00,  0.00000000e+00,  0.00000000e+00,  0.00000000e+00,\n",
       "        0.00000000e+00, -3.42322540e+00,  0.00000000e+00,  0.00000000e+00,\n",
       "        0.00000000e+00,  0.00000000e+00,  7.97273811e+00,  0.00000000e+00,\n",
       "        0.00000000e+00,  0.00000000e+00,  0.00000000e+00,  0.00000000e+00,\n",
       "        0.00000000e+00,  0.00000000e+00,  0.00000000e+00,  0.00000000e+00,\n",
       "        0.00000000e+00,  0.00000000e+00,  0.00000000e+00,  0.00000000e+00,\n",
       "       -3.32812962e+00,  0.00000000e+00, -2.60263534e+00,  0.00000000e+00,\n",
       "        0.00000000e+00,  0.00000000e+00,  0.00000000e+00,  0.00000000e+00,\n",
       "        9.35034982e-01,  0.00000000e+00,  0.00000000e+00, -1.63987006e+00,\n",
       "        0.00000000e+00,  0.00000000e+00,  0.00000000e+00,  0.00000000e+00,\n",
       "        0.00000000e+00,  0.00000000e+00,  3.69434194e+00,  0.00000000e+00,\n",
       "        0.00000000e+00,  0.00000000e+00,  0.00000000e+00,  1.84902536e+00,\n",
       "        0.00000000e+00,  0.00000000e+00,  0.00000000e+00,  0.00000000e+00,\n",
       "        0.00000000e+00,  0.00000000e+00,  0.00000000e+00,  1.70003198e+00,\n",
       "        3.34852450e+00,  0.00000000e+00,  0.00000000e+00,  2.35789702e+00,\n",
       "       -6.66255380e+00,  7.28180287e+00,  1.31809470e+00,  0.00000000e+00,\n",
       "        9.20492398e-01, -1.02695283e+01,  0.00000000e+00,  2.76866868e+00,\n",
       "        0.00000000e+00, -2.94294343e-01,  0.00000000e+00, -1.10575630e+00,\n",
       "       -4.00220072e+00, -6.34527646e+00,  1.13595752e+01,  1.64598562e+00,\n",
       "       -2.63007248e+00,  0.00000000e+00, -6.32001167e+00,  0.00000000e+00,\n",
       "        0.00000000e+00,  0.00000000e+00,  0.00000000e+00,  0.00000000e+00,\n",
       "        0.00000000e+00,  0.00000000e+00,  0.00000000e+00, -2.45545776e+00,\n",
       "       -7.15555365e+00,  0.00000000e+00,  6.63360527e-01, -2.89791379e+00,\n",
       "        0.00000000e+00,  3.01965359e-01,  0.00000000e+00,  0.00000000e+00,\n",
       "        0.00000000e+00,  0.00000000e+00,  0.00000000e+00,  0.00000000e+00,\n",
       "        0.00000000e+00,  0.00000000e+00,  1.87999378e+00,  0.00000000e+00,\n",
       "        0.00000000e+00, -2.05472802e+00,  0.00000000e+00,  0.00000000e+00,\n",
       "        0.00000000e+00,  5.03843146e+00, -8.07362680e+00,  0.00000000e+00,\n",
       "        0.00000000e+00,  0.00000000e+00,  0.00000000e+00,  0.00000000e+00,\n",
       "        0.00000000e+00, -2.01205819e+00, -6.23569012e-01,  0.00000000e+00,\n",
       "        0.00000000e+00,  0.00000000e+00,  0.00000000e+00,  0.00000000e+00,\n",
       "        0.00000000e+00,  0.00000000e+00,  0.00000000e+00,  0.00000000e+00,\n",
       "       -3.28702436e+00,  0.00000000e+00,  1.17614752e+00,  0.00000000e+00,\n",
       "        3.73475430e+00,  0.00000000e+00,  0.00000000e+00,  0.00000000e+00,\n",
       "        0.00000000e+00,  0.00000000e+00,  0.00000000e+00,  0.00000000e+00,\n",
       "        0.00000000e+00,  0.00000000e+00,  0.00000000e+00, -7.93156408e+00,\n",
       "        0.00000000e+00,  0.00000000e+00,  0.00000000e+00,  9.78311094e-01,\n",
       "        0.00000000e+00,  0.00000000e+00,  0.00000000e+00,  0.00000000e+00,\n",
       "        0.00000000e+00,  0.00000000e+00,  0.00000000e+00,  0.00000000e+00,\n",
       "        0.00000000e+00,  0.00000000e+00,  0.00000000e+00,  0.00000000e+00,\n",
       "        0.00000000e+00,  0.00000000e+00,  4.53263417e+00,  9.76906663e-01,\n",
       "        0.00000000e+00,  0.00000000e+00,  0.00000000e+00,  0.00000000e+00,\n",
       "        0.00000000e+00,  0.00000000e+00,  0.00000000e+00,  0.00000000e+00,\n",
       "        0.00000000e+00, -2.92478850e+00,  0.00000000e+00,  0.00000000e+00,\n",
       "        0.00000000e+00,  0.00000000e+00,  2.97168126e-01,  1.80943682e+00,\n",
       "        0.00000000e+00,  0.00000000e+00,  0.00000000e+00,  0.00000000e+00,\n",
       "        0.00000000e+00,  0.00000000e+00, -2.81847831e+00,  0.00000000e+00,\n",
       "        0.00000000e+00,  0.00000000e+00,  0.00000000e+00,  0.00000000e+00,\n",
       "       -3.22122193e-01,  0.00000000e+00,  0.00000000e+00,  0.00000000e+00,\n",
       "        0.00000000e+00,  0.00000000e+00,  0.00000000e+00,  0.00000000e+00,\n",
       "        0.00000000e+00, -1.03094164e-02,  0.00000000e+00,  0.00000000e+00,\n",
       "        0.00000000e+00,  0.00000000e+00, -8.17146762e-01])"
      ]
     },
     "execution_count": 201,
     "metadata": {},
     "output_type": "execute_result"
    }
   ],
   "source": [
    "time_model_coefs = poly2_time_aic_pred_test[0].coef_\n",
    "time_model_coefs"
   ]
  },
  {
   "cell_type": "code",
   "execution_count": null,
   "metadata": {},
   "outputs": [],
   "source": []
  },
  {
   "cell_type": "code",
   "execution_count": null,
   "metadata": {},
   "outputs": [],
   "source": []
  },
  {
   "cell_type": "markdown",
   "metadata": {},
   "source": [
    "Above we have our final results for the various models we trained on the data for predicting fight duration. Below we've included our prediction of the percentage of successful, significant strikes per fighter "
   ]
  },
  {
   "cell_type": "code",
   "execution_count": 157,
   "metadata": {},
   "outputs": [
    {
     "data": {
      "text/plain": [
       "Index(['date', 'no_of_rounds', 'current_lose_streak', 'current_win_streak',\n",
       "       'draw', 'longest_win_streak', 'losses', 'total_rounds_fought',\n",
       "       'total_time_fought(seconds)', 'total_title_bouts',\n",
       "       'win_by_Decision_Majority', 'win_by_Decision_Split',\n",
       "       'win_by_Decision_Unanimous', 'win_by_KO/TKO', 'win_by_Submission',\n",
       "       'win_by_TKO_Doctor_Stoppage', 'wins', 'Height_cms', 'Reach_cms',\n",
       "       'Weight_lbs', 'age', 'stance__Open Stance', 'stance__Orthodox',\n",
       "       'stance__Sideways', 'stance__Southpaw', 'stance__Switch', 'TIME',\n",
       "       'TIMEmod', 'avg_BODY_att', 'avg_BODY_landed', 'avg_CLINCH_att',\n",
       "       'avg_CLINCH_landed', 'avg_DISTANCE_att', 'avg_DISTANCE_landed',\n",
       "       'avg_GROUND_att', 'avg_GROUND_landed', 'avg_HEAD_att',\n",
       "       'avg_HEAD_landed', 'avg_KD', 'avg_LEG_att', 'avg_LEG_landed',\n",
       "       'avg_PASS', 'avg_REV', 'avg_SIG_STR_att', 'avg_SIG_STR_landed',\n",
       "       'avg_SIG_STR_pct', 'avg_SUB_ATT', 'avg_TD_att', 'avg_TD_landed',\n",
       "       'avg_TD_pct', 'avg_TOTAL_STR_att', 'avg_TOTAL_STR_landed', 'Red_win',\n",
       "       'Draw_win'],\n",
       "      dtype='object')"
      ]
     },
     "execution_count": 157,
     "metadata": {},
     "output_type": "execute_result"
    }
   ],
   "source": [
    "fstat_df.columns[]"
   ]
  },
  {
   "cell_type": "code",
   "execution_count": 183,
   "metadata": {
    "collapsed": true
   },
   "outputs": [
    {
     "ename": "AttributeError",
     "evalue": "'Series' object has no attribute 'columns'",
     "output_type": "error",
     "traceback": [
      "\u001b[0;31m---------------------------------------------------------------------------\u001b[0m",
      "\u001b[0;31mAttributeError\u001b[0m                            Traceback (most recent call last)",
      "\u001b[0;32m<ipython-input-183-07b08be40b3f>\u001b[0m in \u001b[0;36m<module>\u001b[0;34m\u001b[0m\n\u001b[0;32m----> 1\u001b[0;31m \u001b[0mystat_df\u001b[0m\u001b[0;34m.\u001b[0m\u001b[0mcolumns\u001b[0m\u001b[0;34m\u001b[0m\u001b[0;34m\u001b[0m\u001b[0m\n\u001b[0m",
      "\u001b[0;32m~/anaconda3/envs/learn-env/lib/python3.6/site-packages/pandas/core/generic.py\u001b[0m in \u001b[0;36m__getattr__\u001b[0;34m(self, name)\u001b[0m\n\u001b[1;32m   5173\u001b[0m             \u001b[0;32mor\u001b[0m \u001b[0mname\u001b[0m \u001b[0;32min\u001b[0m \u001b[0mself\u001b[0m\u001b[0;34m.\u001b[0m\u001b[0m_accessors\u001b[0m\u001b[0;34m\u001b[0m\u001b[0;34m\u001b[0m\u001b[0m\n\u001b[1;32m   5174\u001b[0m         ):\n\u001b[0;32m-> 5175\u001b[0;31m             \u001b[0;32mreturn\u001b[0m \u001b[0mobject\u001b[0m\u001b[0;34m.\u001b[0m\u001b[0m__getattribute__\u001b[0m\u001b[0;34m(\u001b[0m\u001b[0mself\u001b[0m\u001b[0;34m,\u001b[0m \u001b[0mname\u001b[0m\u001b[0;34m)\u001b[0m\u001b[0;34m\u001b[0m\u001b[0;34m\u001b[0m\u001b[0m\n\u001b[0m\u001b[1;32m   5176\u001b[0m         \u001b[0;32melse\u001b[0m\u001b[0;34m:\u001b[0m\u001b[0;34m\u001b[0m\u001b[0;34m\u001b[0m\u001b[0m\n\u001b[1;32m   5177\u001b[0m             \u001b[0;32mif\u001b[0m \u001b[0mself\u001b[0m\u001b[0;34m.\u001b[0m\u001b[0m_info_axis\u001b[0m\u001b[0;34m.\u001b[0m\u001b[0m_can_hold_identifiers_and_holds_name\u001b[0m\u001b[0;34m(\u001b[0m\u001b[0mname\u001b[0m\u001b[0;34m)\u001b[0m\u001b[0;34m:\u001b[0m\u001b[0;34m\u001b[0m\u001b[0;34m\u001b[0m\u001b[0m\n",
      "\u001b[0;31mAttributeError\u001b[0m: 'Series' object has no attribute 'columns'"
     ]
    }
   ],
   "source": [
    "ystat_df.columns"
   ]
  },
  {
   "cell_type": "code",
   "execution_count": 184,
   "metadata": {},
   "outputs": [],
   "source": [
    "fstat_df['avg_TOTAL_STR_landed_pct'] = fstat_df['avg_TOTAL_STR_landed']/fstat_df['avg_TOTAL_STR_att']"
   ]
  },
  {
   "cell_type": "code",
   "execution_count": 163,
   "metadata": {},
   "outputs": [
    {
     "name": "stdout",
     "output_type": "stream",
     "text": [
      "The R-2 for a model with with a Polynomial Order of 1 and a Lasso Alpha of 0 is 0.1391.\n",
      "\n"
     ]
    },
    {
     "name": "stderr",
     "output_type": "stream",
     "text": [
      "/Users/flatironschool/Desktop/Io/mod4proj/UFC-Fight-Duration-Analysis/library.py:57: UserWarning: With alpha=0, this algorithm does not converge well. You are advised to use the LinearRegression estimator\n",
      "  fit = lasso_reg.fit(x_poly_train, y_train)\n",
      "/Users/flatironschool/anaconda3/envs/learn-env/lib/python3.6/site-packages/sklearn/linear_model/coordinate_descent.py:475: UserWarning: Coordinate descent with no regularization may lead to unexpected results and is discouraged.\n",
      "  positive)\n",
      "/Users/flatironschool/anaconda3/envs/learn-env/lib/python3.6/site-packages/sklearn/linear_model/coordinate_descent.py:475: ConvergenceWarning: Objective did not converge. You might want to increase the number of iterations. Duality gap: 24.579619925107384, tolerance: 0.005550102393696854\n",
      "  positive)\n"
     ]
    }
   ],
   "source": [
    "xstat_df = fstat_df[fstat_df.columns[2:26]]\n",
    "ystat_df = fstat_df['avg_SIG_STR_pct']\n",
    "xstat_train, xstat_test, ystat_train, ystat_test = train_test_split(xstat_df, ystat_df, test_size=.2, random_state=42)\n",
    "\n",
    "fstat_poly1 = lib.modeling(xstat_train, xstat_test, ystat_train, ystat_test, lasso_alpha=0)"
   ]
  },
  {
   "cell_type": "code",
   "execution_count": 164,
   "metadata": {},
   "outputs": [
    {
     "name": "stderr",
     "output_type": "stream",
     "text": [
      "/Users/flatironschool/Desktop/Io/mod4proj/UFC-Fight-Duration-Analysis/library.py:57: UserWarning: With alpha=0, this algorithm does not converge well. You are advised to use the LinearRegression estimator\n",
      "  fit = lasso_reg.fit(x_poly_train, y_train)\n",
      "/Users/flatironschool/anaconda3/envs/learn-env/lib/python3.6/site-packages/sklearn/linear_model/coordinate_descent.py:475: UserWarning: Coordinate descent with no regularization may lead to unexpected results and is discouraged.\n",
      "  positive)\n"
     ]
    },
    {
     "name": "stdout",
     "output_type": "stream",
     "text": [
      "The R-2 for a model with with a Polynomial Order of 2 and a Lasso Alpha of 0 is 0.2111.\n",
      "\n"
     ]
    },
    {
     "name": "stderr",
     "output_type": "stream",
     "text": [
      "/Users/flatironschool/anaconda3/envs/learn-env/lib/python3.6/site-packages/sklearn/linear_model/coordinate_descent.py:475: ConvergenceWarning: Objective did not converge. You might want to increase the number of iterations. Duality gap: 21.489473146319867, tolerance: 0.005550102393696854\n",
      "  positive)\n"
     ]
    }
   ],
   "source": [
    "fstat_poly2 = lib.modeling(xstat_train, xstat_test, ystat_train, ystat_test, poly_order=2, lasso_alpha=0)"
   ]
  },
  {
   "cell_type": "code",
   "execution_count": 165,
   "metadata": {},
   "outputs": [
    {
     "name": "stdout",
     "output_type": "stream",
     "text": [
      "The R-2 for a LASSO Least Angle Regression model with with a Polynomial Order of 2 is 0.2063218855577036.\n",
      " The model with the lowest AIC of 5242.019930480519 has a LASSO alpha of 0.00017961761388468484\n"
     ]
    }
   ],
   "source": [
    "fstat_poly2 = lib.modeling(xstat_train, xstat_test, ystat_train, ystat_test, poly_order=2, lars_ic=True)"
   ]
  },
  {
   "cell_type": "code",
   "execution_count": 166,
   "metadata": {},
   "outputs": [
    {
     "name": "stderr",
     "output_type": "stream",
     "text": [
      "/Users/flatironschool/anaconda3/envs/learn-env/lib/python3.6/site-packages/sklearn/linear_model/least_angle.py:604: ConvergenceWarning: Early stopping the lars path, as the residues are small and the current value of alpha is no longer well controlled. 696 iterations, alpha=4.358e-04, previous alpha=4.323e-04, with an active set of 457 regressors.\n",
      "  ConvergenceWarning)\n"
     ]
    },
    {
     "name": "stdout",
     "output_type": "stream",
     "text": [
      "The R-2 for a LASSO Least Angle Regression model with with a Polynomial Order of 3 is 0.25427771363352303.\n",
      " The model with the lowest AIC of 5274.71764747689 has a LASSO alpha of 0.0006451499609383627\n"
     ]
    }
   ],
   "source": [
    "fstat_poly2 = lib.modeling(xstat_train, xstat_test, ystat_train, ystat_test, poly_order=3, lars_ic=True)"
   ]
  },
  {
   "cell_type": "code",
   "execution_count": 167,
   "metadata": {},
   "outputs": [
    {
     "name": "stderr",
     "output_type": "stream",
     "text": [
      "/Users/flatironschool/anaconda3/envs/learn-env/lib/python3.6/site-packages/sklearn/linear_model/least_angle.py:604: ConvergenceWarning: Early stopping the lars path, as the residues are small and the current value of alpha is no longer well controlled. 696 iterations, alpha=4.358e-04, previous alpha=4.323e-04, with an active set of 457 regressors.\n",
      "  ConvergenceWarning)\n"
     ]
    },
    {
     "name": "stdout",
     "output_type": "stream",
     "text": [
      "The R-2 for a LASSO Least Angle Regression model with with a Polynomial Order of 3 is 0.25427771363352303.\n",
      " The model with the lowest AIC of 5274.71764747689 has a LASSO alpha of 0.0006451499609383627\n"
     ]
    }
   ],
   "source": [
    "fstat_poly2 = lib.modeling(xstat_train, xstat_test, ystat_train, ystat_test, poly_order=3, lars_ic=True, iterations=1000000)"
   ]
  },
  {
   "cell_type": "code",
   "execution_count": 168,
   "metadata": {},
   "outputs": [
    {
     "name": "stdout",
     "output_type": "stream",
     "text": [
      "The R-2 for a LASSO Least Angle Regression model with with a Polynomial Order of 2 is 0.2063218855577036.\n",
      " The model with the lowest AIC of 5242.019930480519 has a LASSO alpha of 0.00017961761388468484\n"
     ]
    }
   ],
   "source": [
    "fstat_poly2 = lib.modeling(xstat_train, xstat_test, ystat_train, ystat_test, poly_order=2, lars_ic=True, iterations=1000000)"
   ]
  },
  {
   "cell_type": "code",
   "execution_count": 169,
   "metadata": {},
   "outputs": [
    {
     "data": {
      "text/plain": [
       "(LassoLarsIC(copy_X=True, criterion='aic', eps=2.220446049250313e-16,\n",
       "             fit_intercept=True, max_iter=1000000, normalize=False,\n",
       "             positive=False, precompute='auto', verbose=False),\n",
       " 0.2063218855577036,\n",
       " 5242.019930480519,\n",
       " 0.00017961761388468484)"
      ]
     },
     "execution_count": 169,
     "metadata": {},
     "output_type": "execute_result"
    }
   ],
   "source": [
    "fstat_poly2"
   ]
  },
  {
   "cell_type": "code",
   "execution_count": null,
   "metadata": {},
   "outputs": [],
   "source": []
  },
  {
   "cell_type": "code",
   "execution_count": 170,
   "metadata": {},
   "outputs": [
    {
     "name": "stdout",
     "output_type": "stream",
     "text": [
      "The R-2 for a model with with a Polynomial Order of 1 and a Lasso Alpha of 0 is 0.0808.\n",
      "\n"
     ]
    },
    {
     "name": "stderr",
     "output_type": "stream",
     "text": [
      "/Users/flatironschool/Desktop/Io/mod4proj/UFC-Fight-Duration-Analysis/library.py:57: UserWarning: With alpha=0, this algorithm does not converge well. You are advised to use the LinearRegression estimator\n",
      "  fit = lasso_reg.fit(x_poly_train, y_train)\n",
      "/Users/flatironschool/anaconda3/envs/learn-env/lib/python3.6/site-packages/sklearn/linear_model/coordinate_descent.py:475: UserWarning: Coordinate descent with no regularization may lead to unexpected results and is discouraged.\n",
      "  positive)\n",
      "/Users/flatironschool/anaconda3/envs/learn-env/lib/python3.6/site-packages/sklearn/linear_model/coordinate_descent.py:475: ConvergenceWarning: Objective did not converge. You might want to increase the number of iterations. Duality gap: 154.07349564239715, tolerance: 0.03391151085130912\n",
      "  positive)\n"
     ]
    }
   ],
   "source": [
    "xstat_df = fstat_df[fstat_df.columns[2:26]]\n",
    "ystat_df = fstat_df['avg_TD_pct']\n",
    "xstat_train, xstat_test, ystat_train, ystat_test = train_test_split(xstat_df, ystat_df, test_size=.2, random_state=42)\n",
    "\n",
    "fstat_poly1 = lib.modeling(xstat_train, xstat_test, ystat_train, ystat_test, lasso_alpha=0)"
   ]
  },
  {
   "cell_type": "code",
   "execution_count": 171,
   "metadata": {},
   "outputs": [
    {
     "name": "stderr",
     "output_type": "stream",
     "text": [
      "/Users/flatironschool/Desktop/Io/mod4proj/UFC-Fight-Duration-Analysis/library.py:57: UserWarning: With alpha=0, this algorithm does not converge well. You are advised to use the LinearRegression estimator\n",
      "  fit = lasso_reg.fit(x_poly_train, y_train)\n",
      "/Users/flatironschool/anaconda3/envs/learn-env/lib/python3.6/site-packages/sklearn/linear_model/coordinate_descent.py:475: UserWarning: Coordinate descent with no regularization may lead to unexpected results and is discouraged.\n",
      "  positive)\n"
     ]
    },
    {
     "name": "stdout",
     "output_type": "stream",
     "text": [
      "The R-2 for a model with with a Polynomial Order of 2 and a Lasso Alpha of 0 is 0.1421.\n",
      "\n"
     ]
    },
    {
     "name": "stderr",
     "output_type": "stream",
     "text": [
      "/Users/flatironschool/anaconda3/envs/learn-env/lib/python3.6/site-packages/sklearn/linear_model/coordinate_descent.py:475: ConvergenceWarning: Objective did not converge. You might want to increase the number of iterations. Duality gap: 137.92884576108224, tolerance: 0.03391151085130912\n",
      "  positive)\n"
     ]
    }
   ],
   "source": [
    "fstat_poly2 = lib.modeling(xstat_train, xstat_test, ystat_train, ystat_test, poly_order=2, lasso_alpha=0);"
   ]
  },
  {
   "cell_type": "code",
   "execution_count": 172,
   "metadata": {},
   "outputs": [
    {
     "name": "stdout",
     "output_type": "stream",
     "text": [
      "The R-2 for a LASSO Least Angle Regression model with with a Polynomial Order of 2 is 0.14274850642470138.\n",
      " The model with the lowest AIC of 5470.321445571792 has a LASSO alpha of 0.0006231004435136454\n"
     ]
    }
   ],
   "source": [
    "fstat_poly2 = lib.modeling(xstat_train, xstat_test, ystat_train, ystat_test, poly_order=2, lars_ic=True);"
   ]
  },
  {
   "cell_type": "code",
   "execution_count": 173,
   "metadata": {},
   "outputs": [
    {
     "name": "stdout",
     "output_type": "stream",
     "text": [
      "The R-2 for a LASSO Least Angle Regression model with with a Polynomial Order of 3 is 0.16831845624506558.\n",
      " The model with the lowest AIC of 5486.895432964328 has a LASSO alpha of 0.0016293045008769688\n"
     ]
    }
   ],
   "source": [
    "fstat_poly2 = lib.modeling(xstat_train, xstat_test, ystat_train, ystat_test, poly_order=3, lars_ic=True)"
   ]
  },
  {
   "cell_type": "code",
   "execution_count": null,
   "metadata": {},
   "outputs": [],
   "source": []
  },
  {
   "cell_type": "code",
   "execution_count": null,
   "metadata": {},
   "outputs": [],
   "source": []
  },
  {
   "cell_type": "code",
   "execution_count": null,
   "metadata": {},
   "outputs": [],
   "source": []
  },
  {
   "cell_type": "code",
   "execution_count": 193,
   "metadata": {},
   "outputs": [
    {
     "name": "stdout",
     "output_type": "stream",
     "text": [
      "The R-2 for a model with with a Polynomial Order of 1 and a Lasso Alpha of 0 is 0.0834.\n",
      "\n"
     ]
    },
    {
     "name": "stderr",
     "output_type": "stream",
     "text": [
      "/Users/flatironschool/Desktop/Io/mod4proj/UFC-Fight-Duration-Analysis/library.py:57: UserWarning: With alpha=0, this algorithm does not converge well. You are advised to use the LinearRegression estimator\n",
      "  fit = lasso_reg.fit(x_poly_train, y_train)\n",
      "/Users/flatironschool/anaconda3/envs/learn-env/lib/python3.6/site-packages/sklearn/linear_model/coordinate_descent.py:475: UserWarning: Coordinate descent with no regularization may lead to unexpected results and is discouraged.\n",
      "  positive)\n",
      "/Users/flatironschool/anaconda3/envs/learn-env/lib/python3.6/site-packages/sklearn/linear_model/coordinate_descent.py:475: ConvergenceWarning: Objective did not converge. You might want to increase the number of iterations. Duality gap: 38.84285896049765, tolerance: 0.008427940915908146\n",
      "  positive)\n"
     ]
    }
   ],
   "source": [
    "xstat_df = fstat_df[fstat_df.columns[2:26]]\n",
    "ystat_df = fstat_df['avg_TOTAL_STR_landed_pct']\n",
    "xstat_train, xstat_test, ystat_train, ystat_test = train_test_split(xstat_df, ystat_df, test_size=.2, random_state=42)\n",
    "\n",
    "fstat_poly1_STRpct = lib.modeling(xstat_train, xstat_test, ystat_train, ystat_test, lasso_alpha=0)"
   ]
  },
  {
   "cell_type": "code",
   "execution_count": 194,
   "metadata": {},
   "outputs": [
    {
     "name": "stderr",
     "output_type": "stream",
     "text": [
      "/Users/flatironschool/Desktop/Io/mod4proj/UFC-Fight-Duration-Analysis/library.py:57: UserWarning: With alpha=0, this algorithm does not converge well. You are advised to use the LinearRegression estimator\n",
      "  fit = lasso_reg.fit(x_poly_train, y_train)\n",
      "/Users/flatironschool/anaconda3/envs/learn-env/lib/python3.6/site-packages/sklearn/linear_model/coordinate_descent.py:475: UserWarning: Coordinate descent with no regularization may lead to unexpected results and is discouraged.\n",
      "  positive)\n"
     ]
    },
    {
     "name": "stdout",
     "output_type": "stream",
     "text": [
      "The R-2 for a model with with a Polynomial Order of 2 and a Lasso Alpha of 0 is 0.1282.\n",
      "\n"
     ]
    },
    {
     "name": "stderr",
     "output_type": "stream",
     "text": [
      "/Users/flatironschool/anaconda3/envs/learn-env/lib/python3.6/site-packages/sklearn/linear_model/coordinate_descent.py:475: ConvergenceWarning: Objective did not converge. You might want to increase the number of iterations. Duality gap: 34.31347528950077, tolerance: 0.008427940915908146\n",
      "  positive)\n"
     ]
    }
   ],
   "source": [
    "fstat_poly2_STRpct = lib.modeling(xstat_train, xstat_test, ystat_train, ystat_test,poly_order=2, lasso_alpha=0)"
   ]
  },
  {
   "cell_type": "code",
   "execution_count": 196,
   "metadata": {},
   "outputs": [
    {
     "name": "stdout",
     "output_type": "stream",
     "text": [
      "The R-2 for a LASSO Least Angle Regression model with with a Polynomial Order of 2 is 0.13785966187392307.\n",
      " The model with the lowest AIC of 5495.3798979691255 has a LASSO alpha of 0.00043948299624134115\n"
     ]
    }
   ],
   "source": [
    "fstat_poly2_lars_STRpct = lib.modeling(xstat_train, xstat_test, ystat_train, ystat_test,poly_order=2, lars_ic=True)"
   ]
  },
  {
   "cell_type": "code",
   "execution_count": 197,
   "metadata": {},
   "outputs": [
    {
     "name": "stdout",
     "output_type": "stream",
     "text": [
      "The R-2 for a LASSO Least Angle Regression model with with a Polynomial Order of 3 is 0.2221004863163324.\n",
      " The model with the lowest AIC of 5463.3277789503745 has a LASSO alpha of 0.0005219955918692272\n"
     ]
    }
   ],
   "source": [
    "fstat_poly3_lars_STRpct = lib.modeling(xstat_train, xstat_test, ystat_train, ystat_test,poly_order=3, lars_ic=True)"
   ]
  },
  {
   "cell_type": "code",
   "execution_count": 198,
   "metadata": {},
   "outputs": [
    {
     "name": "stderr",
     "output_type": "stream",
     "text": [
      "/Users/flatironschool/anaconda3/envs/learn-env/lib/python3.6/site-packages/sklearn/linear_model/least_angle.py:604: ConvergenceWarning: Early stopping the lars path, as the residues are small and the current value of alpha is no longer well controlled. 2600 iterations, alpha=1.921e-05, previous alpha=1.921e-05, with an active set of 1169 regressors.\n",
      "  ConvergenceWarning)\n"
     ]
    },
    {
     "name": "stdout",
     "output_type": "stream",
     "text": [
      "The R-2 for a LASSO Least Angle Regression model with with a Polynomial Order of 3 is 0.2221004863163324.\n",
      " The model with the lowest AIC of 5600.359872598965 has a LASSO alpha of 0.0005219955918692272\n"
     ]
    }
   ],
   "source": [
    "fstat_poly3_STRpct = lib.modeling(xstat_train, xstat_test, ystat_train, ystat_test,poly_order=3, lasso_alpha=0, lars_ic=True, iterations=1000000)"
   ]
  },
  {
   "cell_type": "code",
   "execution_count": null,
   "metadata": {},
   "outputs": [],
   "source": [
    "fstat_poly1_STRpct.predict"
   ]
  },
  {
   "cell_type": "code",
   "execution_count": null,
   "metadata": {},
   "outputs": [],
   "source": []
  },
  {
   "cell_type": "code",
   "execution_count": null,
   "metadata": {},
   "outputs": [],
   "source": []
  },
  {
   "cell_type": "code",
   "execution_count": null,
   "metadata": {},
   "outputs": [],
   "source": [
    "# we need to do feature selection based on our models, then do some plots as well\n",
    "\n"
   ]
  }
 ],
 "metadata": {
  "kernelspec": {
   "display_name": "learn-env",
   "language": "python",
   "name": "learn-env"
  },
  "language_info": {
   "codemirror_mode": {
    "name": "ipython",
    "version": 3
   },
   "file_extension": ".py",
   "mimetype": "text/x-python",
   "name": "python",
   "nbconvert_exporter": "python",
   "pygments_lexer": "ipython3",
   "version": "3.6.9"
  }
 },
 "nbformat": 4,
 "nbformat_minor": 2
}
