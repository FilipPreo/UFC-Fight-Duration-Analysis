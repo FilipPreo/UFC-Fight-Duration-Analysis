{
 "cells": [
  {
   "cell_type": "markdown",
   "metadata": {},
   "source": [
    "# UFC Fight Duration Analysis"
   ]
  },
  {
   "cell_type": "markdown",
   "metadata": {},
   "source": [
    "Authors: Titus Bridgwood, Ioana Preoteasa"
   ]
  },
  {
   "cell_type": "markdown",
   "metadata": {},
   "source": [
    "## Introduction"
   ]
  },
  {
   "cell_type": "markdown",
   "metadata": {},
   "source": [
    "This notebook is the technical document detailing our analysis of fight duration analysis. For our analysis we will be using some of the more advanced regression techniques and will hopefully demonstrate a replicable process for handling and analysing data.\n",
    "\n",
    "We have used a dataset of historical data for the UFC from 1993 to 2019 (https://www.kaggle.com/rajeevw/ufcdata#raw_total_fight_data.csv), containing information for all individual UFC bouts during this time period. The data set ostensibly contains two useful targets: the winner of the fight, and the length of the fight. Although it would be nice to see whether variables contained within this dataset can consistently predict wins, as winning (or not) is a binary categorical taget, and as such would lend itself to classification. On the other hand we can take match times, convert them into seconds and see whether the many variables in this dataset are capable or making decent predictions or fight length. There are [x] "
   ]
  },
  {
   "cell_type": "markdown",
   "metadata": {},
   "source": [
    "## Dataset & Data Cleaning"
   ]
  },
  {
   "cell_type": "markdown",
   "metadata": {},
   "source": [
    "## Feature Selection and Regularization"
   ]
  },
  {
   "cell_type": "markdown",
   "metadata": {},
   "source": [
    "## Modelling "
   ]
  },
  {
   "cell_type": "markdown",
   "metadata": {},
   "source": [
    "## Refinement"
   ]
  },
  {
   "cell_type": "markdown",
   "metadata": {},
   "source": []
  }
 ],
 "metadata": {
  "kernelspec": {
   "display_name": "Python 3",
   "language": "python",
   "name": "python3"
  },
  "language_info": {
   "codemirror_mode": {
    "name": "ipython",
    "version": 3
   },
   "file_extension": ".py",
   "mimetype": "text/x-python",
   "name": "python",
   "nbconvert_exporter": "python",
   "pygments_lexer": "ipython3",
   "version": "3.7.3"
  }
 },
 "nbformat": 4,
 "nbformat_minor": 4
}
